{
 "cells": [
  {
   "cell_type": "markdown",
   "metadata": {},
   "source": [
    "---\n",
    "\n",
    "# Introduction à Python pour les scientifiques\n",
    "\n",
    "Cyril Desjouy"
   ]
  },
  {
   "cell_type": "markdown",
   "metadata": {},
   "source": [
    "---\n",
    "\n",
    "## Qu'est ce que Python ? \n",
    "\n",
    "Python est un langage de programmation orienté **objet**. Le langage Python est placé sous licence libre et fonctionne sur la plupart des plates-formes informatiques. Python permet une initiation aisée aux concepts de base de la programmation. \n",
    "\n",
    "Vous pouvez télécharger gratuitement Python sur *Python.org* ou choisir d'installer une distribution packagée comme *anaconda* contenant tous les outils essentiels au calcul scientifique, tel que les bibliothèques Numpy, Scipy et Matplotlib (https://www.anaconda.com/download/). Quel que soit votre choix, il est fortement conseillé d'installer la dernière version disponible (version 3.6 en 09/2017)\n",
    "\n",
    "## Qu'est ce que Jupyter ?\n",
    "\n",
    "Jupyter NoteBook est une application web qui permet de créer et de partager des documents qui contiennent du code Python et du texte formaté ! Dans le cadre de ces TP vous utiliserez cet outil. Vous pouvez, dans chaque cellule de code, taper le nombre de lignes que vous souhaitez. Pour valider l'ensemble des instructions contenues dans une cellule, il suffit de taper `SHIFT + ENTER` ! "
   ]
  },
  {
   "cell_type": "markdown",
   "metadata": {},
   "source": [
    "---\n",
    "\n",
    "# Plan\n",
    "\n",
    "* Les types de base sous Python\n",
    "* Le module numpy et le type ndarray\n",
    "* Le module Matplotlib\n",
    "* Indexation et slicing\n",
    "* Les Entrées/Sorties : le cas des E/S standard\n",
    "* Les Entrées/Sorties : le cas des E/S fichiers\n",
    "* Les éléments classiques d'algorithmique\n",
    "* Les fonctions sous Python\n",
    "* Quelques éléments pour l'ajustement de courbes\n",
    "* La trousse à outil du scientifique : Numpy et Scipy\n",
    "* Et en dehors de Jupyter ?\n"
   ]
  },
  {
   "cell_type": "markdown",
   "metadata": {},
   "source": [
    "---\n",
    "\n",
    "# Les Types de base sous Python"
   ]
  },
  {
   "cell_type": "markdown",
   "metadata": {},
   "source": [
    "---\n",
    "\n",
    "## Les nombres entiers et les opérations mathématiques\n",
    "\n",
    "Nous allons dans cette première partie étudier les nombres entiers et les opérations mathématiques de base sous Python.\n",
    "\n",
    "\n",
    "><div class=\"alert alert-block alert-info\">\n",
    "Commencez tout d'abord par taper, puis exécuter, la commande `whos` dans la ligne suivante : </div>\n",
    "\n",
    ">**Note :** *la commande `whos` n'est pas une commande Python, mais une commande fournie par Jupyter. Quand vous souhaitez utiliser `whos`, vous devez l'exécuter **seul** dans une cellule !*"
   ]
  },
  {
   "cell_type": "code",
   "execution_count": 1,
   "metadata": {},
   "outputs": [
    {
     "name": "stdout",
     "output_type": "stream",
     "text": [
      "Interactive namespace is empty.\n"
     ]
    }
   ],
   "source": [
    "whos"
   ]
  },
  {
   "cell_type": "markdown",
   "metadata": {},
   "source": [
    "Cette commande permet d'afficher la liste des variables connues par Jupyter. A priori, pour le moment, Jupyter ne connait aucune variable. Pour assigner une valeur à une variable, on utilise le signe `\"=\"` sous Python. Gardez bien en mémoire que toutes les variables en Python sont des **objets**.\n",
    "\n",
    "><div class=\"alert alert-block alert-info\">\n",
    "Tapez par exemple `MyVar1 = 2` dans la cellule suivante :</div>"
   ]
  },
  {
   "cell_type": "code",
   "execution_count": 2,
   "metadata": {},
   "outputs": [],
   "source": [
    "MyVar=1"
   ]
  },
  {
   "cell_type": "markdown",
   "metadata": {},
   "source": [
    "><div class=\"alert alert-block alert-info\">\n",
    "Tapez à nouveau la commande `whos` :</div>"
   ]
  },
  {
   "cell_type": "code",
   "execution_count": 3,
   "metadata": {},
   "outputs": [
    {
     "name": "stdout",
     "output_type": "stream",
     "text": [
      "Variable   Type    Data/Info\n",
      "----------------------------\n",
      "MyVar      int     1\n"
     ]
    }
   ],
   "source": [
    "whos"
   ]
  },
  {
   "cell_type": "markdown",
   "metadata": {},
   "source": [
    "Jupyter connait maintenant la variable `MyVar1` qui est un objet de type `int`, ce qui signifie *integer*. Un *integer* n'est autre qu'un nombre entier ! Le nom `MyVar1` fait référence à une espace dans la mémoire de l'ordinateur où est stockée la valeur 1. \n",
    "\n",
    "><div class=\"alert alert-block alert-warning\">\n",
    "**Important :** Vous pouvez appeler vos variables comme vous le souhaitez tant que son nom ne contient que des chiffres [0-9] et des lettres minuscules [a-z] ou majuscules [A-Z]. Vous ne pouvez cependant pas définir un nom de variable commençant par un chiffre ou contenant des caractères spéciaux (lettres accentuées, caractères de ponctuation ou autres caractères spéciaux)\n",
    "</div>\n",
    "\n",
    "Il est possible de réaliser des opérations mathématiques sur les objets en Python. Les opérateurs mathématiques classiques sont :\n",
    "\n",
    "* l'**addition**, symbolisée par le caractère : **+**\n",
    "* la **soustraction**, symbolisée par le caractère : **-**\n",
    "* la **multiplication**, symbolisée par le caractère : **\\***\n",
    "* la **division classique**, symbolisée par le caractère : **/**\n",
    "* la **division entière**, symbolisé par le double caractère : **//**\n",
    "* la **puissance**, symbolisée par le double caractère \\*, c'est à dire : **\\*\\***\n",
    "\n",
    "><div class=\"alert alert-block alert-info\">\n",
    "Tapez par exemple `MyVar1*2` :</div>"
   ]
  },
  {
   "cell_type": "code",
   "execution_count": 5,
   "metadata": {},
   "outputs": [
    {
     "data": {
      "text/plain": [
       "2"
      ]
     },
     "execution_count": 5,
     "metadata": {},
     "output_type": "execute_result"
    }
   ],
   "source": [
    "MyVar*2"
   ]
  },
  {
   "cell_type": "markdown",
   "metadata": {},
   "source": [
    "Vous remarquerez ici que le résultat de l'opération s'affiche directement dans la cellule `Out[]`. Si vous affectez le résultat de l'opération `MyVar1*2` à la variable `MyVar2`, le résultat ne s'affichera alors pas directement.\n",
    "<br>\n",
    "<br>\n",
    "\n",
    "><div class=\"alert alert-block alert-info\">\n",
    "Tapez `MyVar2 = MyVar1*2` dans la cellule suivante : </div>"
   ]
  },
  {
   "cell_type": "code",
   "execution_count": 7,
   "metadata": {},
   "outputs": [],
   "source": [
    "MyVar2 = MyVar*2"
   ]
  },
  {
   "cell_type": "markdown",
   "metadata": {},
   "source": [
    "Pour afficher le contenu de `MyVar2`, vous avez alors plusieurs possibilités :\n",
    "\n",
    "* tapez uniquement MyVar2 puis exécutez cette instruction,\n",
    "* utilisez la commande Python `print(obj)` où `obj` est l'objet que vous souhaitez afficher,\n",
    "* utilisez la commande `whos`.\n",
    "\n",
    "><div class=\"alert alert-block alert-info\">\n",
    "Testez chacune de ces méthodes dans les trois cellules suivantes : </div>\n",
    "\n",
    "> **Note :** *Vous pouvez à tout moment utiliser la commande help(**fct**) pour voir l'aide sur la fonction **fct** *"
   ]
  },
  {
   "cell_type": "code",
   "execution_count": 8,
   "metadata": {},
   "outputs": [
    {
     "data": {
      "text/plain": [
       "2"
      ]
     },
     "execution_count": 8,
     "metadata": {},
     "output_type": "execute_result"
    }
   ],
   "source": [
    "MyVar2"
   ]
  },
  {
   "cell_type": "code",
   "execution_count": 10,
   "metadata": {},
   "outputs": [
    {
     "name": "stdout",
     "output_type": "stream",
     "text": [
      "2\n"
     ]
    }
   ],
   "source": [
    "print(MyVar2)"
   ]
  },
  {
   "cell_type": "code",
   "execution_count": 11,
   "metadata": {},
   "outputs": [
    {
     "name": "stdout",
     "output_type": "stream",
     "text": [
      "Variable   Type    Data/Info\n",
      "----------------------------\n",
      "MyVar      int     1\n",
      "MyVar2     int     2\n"
     ]
    }
   ],
   "source": [
    "whos"
   ]
  },
  {
   "cell_type": "markdown",
   "metadata": {},
   "source": [
    "Bien évidemment la dernière méthode (celle qui utilise la commande `whos`) n'est pas réellement utilisée pour afficher des variables, mais plutôt pour voir ce que Jupyter a en mémoire !"
   ]
  },
  {
   "cell_type": "markdown",
   "metadata": {},
   "source": [
    "---\n",
    "\n",
    "## Les nombres réels\n",
    "\n",
    "\n",
    "Maintenant que vous savez assigner une valeur à une variable et faire une opération mathématique simple, nous allons étudier quelques types de données qui vous serviront sous Python.\n",
    "\n",
    "><div class=\"alert alert-block alert-info\">\n",
    "Affectez la valeur 2.3 à l'object `MyVar3`, puis regardez le type de cet objet :</div>\n",
    "\n",
    "> **Note :** *Vous pouvez utiliser la commande* `whos` *vue précédemment, mais également la commande Python* `type(obj)` *qui vous donne directement le type de l'objet obj. Testez les **2 méthodes***."
   ]
  },
  {
   "cell_type": "code",
   "execution_count": 12,
   "metadata": {},
   "outputs": [],
   "source": [
    "MyVar3 = 2.3"
   ]
  },
  {
   "cell_type": "code",
   "execution_count": 13,
   "metadata": {},
   "outputs": [
    {
     "name": "stdout",
     "output_type": "stream",
     "text": [
      "2.3\n"
     ]
    }
   ],
   "source": [
    "print(MyVar3)"
   ]
  },
  {
   "cell_type": "code",
   "execution_count": 14,
   "metadata": {},
   "outputs": [
    {
     "name": "stdout",
     "output_type": "stream",
     "text": [
      "Variable   Type     Data/Info\n",
      "-----------------------------\n",
      "MyVar      int      1\n",
      "MyVar2     int      2\n",
      "MyVar3     float    2.3\n"
     ]
    }
   ],
   "source": [
    "whos"
   ]
  },
  {
   "cell_type": "markdown",
   "metadata": {},
   "source": [
    "Vous venez de créer un objet du type `float`. C'est la dénomination en informatique d'un nombre à virgule. Un nombre réel tout simplement !\n",
    "\n",
    "><div class=\"alert alert-block alert-info\">\n",
    "Affectez maintenant à la variable `MyVar4` la multiplication de `MyVar3` et de `MyVar1` puis regardez son type :</div>\n"
   ]
  },
  {
   "cell_type": "code",
   "execution_count": 15,
   "metadata": {},
   "outputs": [],
   "source": [
    "MyVar4 = MyVar3*MyVar"
   ]
  },
  {
   "cell_type": "code",
   "execution_count": 16,
   "metadata": {},
   "outputs": [
    {
     "name": "stdout",
     "output_type": "stream",
     "text": [
      "Variable   Type     Data/Info\n",
      "-----------------------------\n",
      "MyVar      int      1\n",
      "MyVar2     int      2\n",
      "MyVar3     float    2.3\n",
      "MyVar4     float    2.3\n"
     ]
    }
   ],
   "source": [
    "whos"
   ]
  },
  {
   "cell_type": "markdown",
   "metadata": {},
   "source": [
    "><div class=\"alert alert-block alert-info\">\n",
    "Quel conclusion pouvez vous en tirer ?</div>"
   ]
  },
  {
   "cell_type": "markdown",
   "metadata": {},
   "source": [
    "---\n",
    "\n",
    "## Les nombres complexes\n",
    "\n",
    "\n",
    "Nous allons maintenant étudier un dernier type \"scalaire\" en Python. Il s'agit du nombre complexe.\n",
    "Le nombre complexe peut se déclarer de deux manières différentes : \n",
    "\n",
    "* avec la fonction `complex(re, im)` où les arguments d'entrée `re` et `im` sont respectivement sa partie réelle et sa partie imaginaire\n",
    "* en utilisant le caractère \"j\" tel que : 1+1j, 1j étant alors l'imaginaire pur\n",
    "\n",
    "><div class=\"alert alert-block alert-info\"> Déclarez deux complexes ayant pour partie imaginaire 3 et pour partie réelle 5 en utilisant les deux méthodes sus citées. Vous pourrez par exemple appeler ces deux variables `c1` et `c2`, et pour chacune vous vérifierez leur type :</div>"
   ]
  },
  {
   "cell_type": "code",
   "execution_count": 18,
   "metadata": {},
   "outputs": [],
   "source": [
    "c1 = complex(5,3)"
   ]
  },
  {
   "cell_type": "code",
   "execution_count": 20,
   "metadata": {},
   "outputs": [],
   "source": [
    "c2 = 5+3j"
   ]
  },
  {
   "cell_type": "markdown",
   "metadata": {},
   "source": [
    "---\n",
    "\n",
    "## Les opérateurs de comparaison\n",
    "\n",
    "Dans le langage de programmation Python (et dans tous les langages de programmation de manière générale), il est souvent utile de faire des comparaisons. Les principaux opérateurs de comparaison sont les suivants : \n",
    "\n",
    "* L'égalité, avec l'opérateur `==`\n",
    "* La différence, avec l'opérateur `!=`\n",
    "* L'infériorité ou la supériorité stricte, avec les opérateurs `<` et `>`\n",
    "* L'infériorité ou la supériorité simple, avec les opérateurs `<=` et `>=`\n",
    "\n",
    "><div class=\"alert alert-block alert-info\"> Vérifiez maintenant que les deux objets complexes que vous avez crées précédemment sont effectivement égaux :</div>\n",
    "\n",
    "> **Note :** *en anglais, `True` veut dire vrai, et `False` veut bien entendu dire faux !*"
   ]
  },
  {
   "cell_type": "code",
   "execution_count": 22,
   "metadata": {},
   "outputs": [
    {
     "data": {
      "text/plain": [
       "False"
      ]
     },
     "execution_count": 22,
     "metadata": {},
     "output_type": "execute_result"
    }
   ],
   "source": [
    "c1 == MyVar"
   ]
  },
  {
   "cell_type": "markdown",
   "metadata": {},
   "source": [
    "---\n",
    "\n",
    "## Les chaînes de caractères\n",
    "\n",
    "\n",
    "Un autre type très utilisé en programmation est le type `str`, ce qui est le raccourci pour *string* en anglais (chaîne de caractères en français). Pour déclarer une chaîne de caractères sous Python, on entoure généralement notre texte par :\n",
    "\n",
    "* des apostrophes : 'mon texte'\n",
    "* des guillemets : \"mon texte\"\n",
    "* des triples guillemets : \"\"\"mon texte\"\"\"\n",
    "\n",
    "Ces trois méthodes sont équivalentes. Elles existent pour palier à certains cas particuliers : \n",
    "\n",
    "* Lorsque le texte contient une apostrophe, il faudra utiliser les guillemets ou les triples guillemets\n",
    "* Lorsque le texte contient des guillemets, il faudra impérativement utiliser les triples guillemets\n",
    "\n",
    "Dans la suite vous attribuerez aux variables s1, s2, et s3, les trois textes suivants, respectivement: \n",
    "\n",
    "* Une chaîne\n",
    "* L'une des chaînes\n",
    "* La \"superbe\" chaîne\n",
    "\n",
    "><div class=\"alert alert-block alert-info\">\n",
    "Déclarer dans les cellules suivantes les chaînes de caractères s1, s2, et s3, puis affichez leur contenu :</div>\n"
   ]
  },
  {
   "cell_type": "code",
   "execution_count": 23,
   "metadata": {},
   "outputs": [],
   "source": [
    "s1 = 'Une chaine'"
   ]
  },
  {
   "cell_type": "code",
   "execution_count": 1,
   "metadata": {},
   "outputs": [
    {
     "name": "stdout",
     "output_type": "stream",
     "text": [
      "Interactive namespace is empty.\n"
     ]
    }
   ],
   "source": [
    "whos"
   ]
  },
  {
   "cell_type": "markdown",
   "metadata": {
    "collapsed": true
   },
   "source": [
    "Tout comme avec les entiers, les réels, et les nombres complexes, il est possible de faire des opérations sur les chaînes de caractères. \n",
    "\n",
    "><div class=\"alert alert-block alert-info\">Déclarez un objet qui contient la chaîne de caractères 'Hello' et un autre contenant 'World!'. Effectuez des opérations mathématiques entre ces deux chaînes, mais également entre l'une de ces deux chaînes et un entier :</div>"
   ]
  },
  {
   "cell_type": "code",
   "execution_count": 27,
   "metadata": {},
   "outputs": [],
   "source": [
    "str1 = 'Hello'"
   ]
  },
  {
   "cell_type": "code",
   "execution_count": 31,
   "metadata": {},
   "outputs": [
    {
     "ename": "TypeError",
     "evalue": "can only concatenate str (not \"int\") to str",
     "output_type": "error",
     "traceback": [
      "\u001b[1;31m---------------------------------------------------------------------------\u001b[0m",
      "\u001b[1;31mTypeError\u001b[0m                                 Traceback (most recent call last)",
      "\u001b[1;32m<ipython-input-31-bcc0cc78dc28>\u001b[0m in \u001b[0;36m<module>\u001b[1;34m()\u001b[0m\n\u001b[1;32m----> 1\u001b[1;33m \u001b[0mstr3\u001b[0m \u001b[1;33m=\u001b[0m \u001b[0mstr2\u001b[0m \u001b[1;33m+\u001b[0m \u001b[0mMyVar\u001b[0m\u001b[1;33m\u001b[0m\u001b[0m\n\u001b[0m",
      "\u001b[1;31mTypeError\u001b[0m: can only concatenate str (not \"int\") to str"
     ]
    }
   ],
   "source": [
    "str3 = str2 + MyVar"
   ]
  },
  {
   "cell_type": "code",
   "execution_count": 30,
   "metadata": {},
   "outputs": [
    {
     "name": "stdout",
     "output_type": "stream",
     "text": [
      "Variable   Type       Data/Info\n",
      "-------------------------------\n",
      "MyVar      int        1\n",
      "MyVar2     int        2\n",
      "MyVar3     float      2.3\n",
      "MyVar4     float      2.3\n",
      "MyVar6     complex    (5+3j)\n",
      "c1         complex    (5+3j)\n",
      "c2         complex    (5+3j)\n",
      "s1         str        Une chaine\n",
      "s2         str        La \"superbe\" chaine \n",
      "str1       str        Hello\n",
      "str2       str        World!\n",
      "str3       str        HelloWorld!\n"
     ]
    }
   ],
   "source": [
    "whos"
   ]
  },
  {
   "cell_type": "markdown",
   "metadata": {},
   "source": [
    "Vous noterez qu'il y a de grosses différences entre les objets de type numérique (*int, float, complex*) et les objets de type chaîne de caractères (*str*) ! \n",
    "\n",
    "><div class=\"alert alert-block alert-info\">\n",
    "Quels sont les **deux types d'opérations** supportées par les chaines de caractères ? En quoi sont elles différentes des opérations mathématiques classiques sur les types numériques (entiers, réels, complexes)</div>"
   ]
  },
  {
   "cell_type": "markdown",
   "metadata": {},
   "source": [
    "---\n",
    "\n",
    "## Les listes\n",
    "\n",
    "\n",
    "\n",
    "Le dernier type de base que nous verrons ici est le type `list`. Son nom en dit long sur ce qu'il est ! Il s'agit tout simplement d'un objet contenant une liste d'éléments. Pour déclarer une liste, on utilise traditionnellement les crochets : []. Par exemple : \n",
    "\n",
    "```Python\n",
    "lst = [1, 2, 3]\n",
    "```\n",
    "\n",
    "crée un objet contenant trois éléments, à savoir, les entiers 1, 2, et 3. \n",
    "\n",
    "Il est possible de mélanger n'importe quels types de données dans une liste. Une liste peut en effet comprendre indifféremment des objets de type `int`, `float`, `complex`, `string`, ou autre...\n",
    "\n",
    "><div class=\"alert alert-block alert-info\">Créez une liste contenant l'entier 1, le réel 2.3, le complexe 2+j, et la chaîne de caractères \"Hello\", puis affichez cette liste grâce à la fonction Python `print`:</div>\n"
   ]
  },
  {
   "cell_type": "code",
   "execution_count": 35,
   "metadata": {},
   "outputs": [],
   "source": [
    "MyList = [1,2.3,2+1j]"
   ]
  },
  {
   "cell_type": "markdown",
   "metadata": {},
   "source": [
    "><div class=\"alert alert-block alert-info\">Créez maintenant deux listes de 3 éléments. La première liste contiendra les entiers 1, 2, 3, et la seconde liste les éléments 4, 5, 6. </div>"
   ]
  },
  {
   "cell_type": "code",
   "execution_count": 37,
   "metadata": {},
   "outputs": [],
   "source": [
    "MyList3 = [4,5,6]"
   ]
  },
  {
   "cell_type": "markdown",
   "metadata": {},
   "source": [
    "><div class=\"alert alert-block alert-info\">Testez les opérations mathématiques classiques suivantes sur ces deux listes, à savoir :</div>\n",
    "\n",
    ">* L'addition des deux listes\n",
    "* La soustraction des deux listes\n",
    "* La multiplication des deux listes\n",
    "* La multiplication d'une liste par un entier"
   ]
  },
  {
   "cell_type": "code",
   "execution_count": 39,
   "metadata": {},
   "outputs": [
    {
     "name": "stdout",
     "output_type": "stream",
     "text": [
      "[1, 2, 3, 4, 5, 6]\n"
     ]
    }
   ],
   "source": [
    "MyList4 = MyList2 + MyList3 ; print(MyList4)"
   ]
  },
  {
   "cell_type": "code",
   "execution_count": 41,
   "metadata": {},
   "outputs": [
    {
     "ename": "TypeError",
     "evalue": "unsupported operand type(s) for -: 'list' and 'list'",
     "output_type": "error",
     "traceback": [
      "\u001b[1;31m---------------------------------------------------------------------------\u001b[0m",
      "\u001b[1;31mTypeError\u001b[0m                                 Traceback (most recent call last)",
      "\u001b[1;32m<ipython-input-41-a1aae536b111>\u001b[0m in \u001b[0;36m<module>\u001b[1;34m()\u001b[0m\n\u001b[1;32m----> 1\u001b[1;33m \u001b[0mMyList4\u001b[0m \u001b[1;33m=\u001b[0m \u001b[0mMyList2\u001b[0m \u001b[1;33m-\u001b[0m \u001b[0mMyList3\u001b[0m \u001b[1;33m;\u001b[0m \u001b[0mprint\u001b[0m\u001b[1;33m(\u001b[0m\u001b[0mMyList4\u001b[0m\u001b[1;33m)\u001b[0m\u001b[1;33m\u001b[0m\u001b[0m\n\u001b[0m",
      "\u001b[1;31mTypeError\u001b[0m: unsupported operand type(s) for -: 'list' and 'list'"
     ]
    }
   ],
   "source": [
    "MyList4 = MyList2 - MyList3 ; print(MyList4)"
   ]
  },
  {
   "cell_type": "markdown",
   "metadata": {},
   "source": [
    "><div class=\"alert alert-block alert-info\">Tirez en les conclusions appropriées. Comparez en particulier le comportement de ces opérations avec celles effectuées précédemment avec les chaînes de caractères.</div>"
   ]
  },
  {
   "cell_type": "markdown",
   "metadata": {},
   "source": [
    "--- \n",
    "\n",
    "## Commentaires et présentation\n",
    "\n",
    "Python encourage l'écriture de code propre et lisible en utilisant par exemple les changements d'indentation (retrait à droite) pour identifier les blocs logiques (dans les conditions ou les boucles). N'hésitez par à aérer votre code en laissant une ligne blanche entre des blocs de code se rapportant à des concepts différents.\n",
    "\n",
    "Python utilise enfin le symbole `#` pour marquer les commentaires, tout ce qui suit ce symbole est ignoré par l'interpréteur."
   ]
  },
  {
   "cell_type": "markdown",
   "metadata": {},
   "source": [
    "---\n",
    "\n",
    "# Le module numpy et le type ndarray"
   ]
  },
  {
   "cell_type": "markdown",
   "metadata": {},
   "source": [
    "Avant de passer à la suite, nous allons tout d'abord revenir à un environnement de travail vierge. Pour ce faire, utilisez la commande Jupyter `reset`. L'option `-f` (pour force) peut être utilisez pour forcer la réinitialisation sans demander confirmation à l'utilisateur.\n",
    "\n",
    "><div class=\"alert alert-block alert-info\">\n",
    "Tapez puis exécutez `reset -f` dans la cellule suivante :</div>"
   ]
  },
  {
   "cell_type": "code",
   "execution_count": 42,
   "metadata": {},
   "outputs": [],
   "source": [
    "reset -f"
   ]
  },
  {
   "cell_type": "markdown",
   "metadata": {},
   "source": [
    "---\n",
    "\n",
    "\n",
    "## Le module scientifique Numpy\n",
    "\n",
    "Comme nous l'avons vu précédemment, il n'est pas possible de faire directement des opérations mathématiques matricielles avec des objets de type `list`. Un autre type d'objet a été crée spécialement pour le calcul scientifique : le type `ndarray`.\n",
    "\n",
    "Le type `ndarray` n'est pas disponible dans la bibliothèque standard de Python. Il est fourni par un module additionnel appelé `numpy` (pour Numeric Python). \n",
    "\n",
    "Pour charger ce module, il convient d'utiliser la commande Python `import` comme suit :\n",
    "\n",
    "```python\n",
    "import numpy\n",
    "```\n",
    "\n",
    "Lorsque cette commande est exécutée, le module `numpy` est importé dans votre environnement de travail. Toutes les fonctions fournies par la bibliothèque `numpy` sont alors disponibles comme suit (exemple de la fonction cosinus) :\n",
    "\n",
    "```python\n",
    "numpy.cos(MyVar)\n",
    "```\n",
    "\n",
    "Rappelons ici que Python est un langage objet ! Importer l'objet `numpy` dans notre environnement de travail permet d'accéder à toutes les fonctions qu'il propose. Pour accéder aux différentes fonctions d'un objet sous Python, on utilise le caractère point (.).\n",
    "\n",
    "Afin de faciliter un peu les choses, il est possible d'importer un module de la manière suivante : \n",
    "\n",
    "```python\n",
    "import numpy as np           # textuellement : importer numpy en tant que np\n",
    "```\n",
    "\n",
    "Ainsi, l'objet `np` constitue un raccourci vers le module `numpy` dans votre environnement de travail. Utilisez une fonction du module `numpy` se résume maintenant à écrire, pour l'exemple de la fonction cosinus :\n",
    "\n",
    "```python\n",
    "np.cos(MyVar)\n",
    "```\n",
    "\n",
    "><div class=\"alert alert-block alert-info\">Importez le module `numpy` en tant que raccourci nommé `np` :"
   ]
  },
  {
   "cell_type": "code",
   "execution_count": 43,
   "metadata": {},
   "outputs": [],
   "source": [
    "import numpy as np"
   ]
  },
  {
   "cell_type": "markdown",
   "metadata": {},
   "source": [
    "><div class=\"alert alert-block alert-info\">\n",
    "Vérifiez les variables que Jupyter connait :</div>"
   ]
  },
  {
   "cell_type": "code",
   "execution_count": 44,
   "metadata": {
    "scrolled": true
   },
   "outputs": [
    {
     "name": "stdout",
     "output_type": "stream",
     "text": [
      "Variable   Type      Data/Info\n",
      "------------------------------\n",
      "np         module    <module 'numpy' from 'C:\\<...>ges\\\\numpy\\\\__init__.py'>\n"
     ]
    }
   ],
   "source": [
    "whos"
   ]
  },
  {
   "cell_type": "markdown",
   "metadata": {},
   "source": [
    "Vous voyez dans la liste donnée par la commande `whos` que l'objet `np` est bien un module, et que ce module est plus particulièrement Numpy !\n",
    "\n",
    "> **Note : ** *Vous pouvez trouver la documentation de numpy sur le site officiel: http://www.numpy.org/*"
   ]
  },
  {
   "cell_type": "markdown",
   "metadata": {},
   "source": [
    "---\n",
    "\n",
    "## Le type ndarray\n",
    "\n",
    "Maintenant que vous avez importé le module `numpy`, nous pouvons nous amuser avec le nouveau type qu'il fournit, le type `ndarray` ! L'une des fonctions importantes du module `numpy` est la fonction `array`. Celle-ci permet de construire facilement des matrices ou des vecteurs. Cette fonction permet en particulier de transformer un objet de type `list` en objet de type `ndarray`\n",
    "\n",
    "><div class=\"alert alert-block alert-info\">\n",
    "Pour commencer, déclarez une liste que vous nommerez `l1` qui contiendra les éléments 1, 2 et 3, puis vous vérifierez son type : </div>\n"
   ]
  },
  {
   "cell_type": "code",
   "execution_count": 46,
   "metadata": {},
   "outputs": [
    {
     "name": "stdout",
     "output_type": "stream",
     "text": [
      "Variable   Type      Data/Info\n",
      "------------------------------\n",
      "l1         list      n=3\n",
      "np         module    <module 'numpy' from 'C:\\<...>ges\\\\numpy\\\\__init__.py'>\n"
     ]
    }
   ],
   "source": [
    "whos"
   ]
  },
  {
   "cell_type": "markdown",
   "metadata": {},
   "source": [
    "><div class=\"alert alert-block alert-info\">\n",
    "Tapez maintenant la ligne `v1 = np.array(l1)` dans la cellule suivante et regardez le type de `v1`: </div>"
   ]
  },
  {
   "cell_type": "code",
   "execution_count": 48,
   "metadata": {},
   "outputs": [
    {
     "name": "stdout",
     "output_type": "stream",
     "text": [
      "Variable   Type       Data/Info\n",
      "-------------------------------\n",
      "l1         list       n=3\n",
      "np         module     <module 'numpy' from 'C:\\<...>ges\\\\numpy\\\\__init__.py'>\n",
      "v1         ndarray    3: 3 elems, type `int32`, 12 bytes\n"
     ]
    }
   ],
   "source": [
    "whos"
   ]
  },
  {
   "cell_type": "markdown",
   "metadata": {},
   "source": [
    "Pour déclarer un objet `ndarray`, on rassemble généralement les deux étapes précédentes en une unique instruction : `v1 = np.array([1, 2, 3])`.\n",
    "\n",
    "><div class=\"alert alert-block alert-info\">\n",
    "Testez cette instruction et vérifiez que vous obtenez la même chose que précédemment :</div>"
   ]
  },
  {
   "cell_type": "code",
   "execution_count": 51,
   "metadata": {},
   "outputs": [],
   "source": [
    "v1 = np.array([1,2,3])"
   ]
  },
  {
   "cell_type": "markdown",
   "metadata": {},
   "source": [
    "Rappelons le, Python est un langage objet ! L'objet `v1` que vous venez de définir est de type `numpy.ndarray`. Ce type fait partie d'une classe (nous verrons un peu plus tard cette notion de classe...). Cet objet de type `numpy.ndarray` hérite de certains **attributs** (des caractéristiques) et de certaines **méthodes** (des fonctions) qui proviennent de la classe `ndarray`. Par exemple, les objets de type `ndarray` possèdent un attribut nommé `shape` qui renvoie la forme de notre objet de type `ndarray`.\n",
    "\n",
    "><div class=\"alert alert-block alert-info\"> Appelez l'attribut `shape` dont a hérité l'objet `v1`</div>\n",
    "\n",
    ">**Rappel :** *On utilise le caractère point (.) pour accéder aux différentes méthodes ou attributs d'un objet.*"
   ]
  },
  {
   "cell_type": "code",
   "execution_count": 52,
   "metadata": {},
   "outputs": [
    {
     "name": "stdout",
     "output_type": "stream",
     "text": [
      "(3,)\n"
     ]
    }
   ],
   "source": [
    "print(v1.shape)"
   ]
  },
  {
   "cell_type": "markdown",
   "metadata": {},
   "source": [
    "Félicitations, vous avez crée votre premier vecteur sous Python (avec l'aide du module `numpy`) !\n",
    "\n",
    "><div class=\"alert alert-block alert-info\">Créez donc un second vecteur nommé `v2` de la même dimension que `v1`. Vous choisirez vous même les valeurs qu'il contient. Vous vérifierez que **sa forme** est égale à celle du vecteur `v1` (vous utiliserez pour cela l'opérateur comparaison == vu précédemment): </div>"
   ]
  },
  {
   "cell_type": "code",
   "execution_count": 53,
   "metadata": {},
   "outputs": [],
   "source": [
    "v2 = np.array([7,8,9])"
   ]
  },
  {
   "cell_type": "code",
   "execution_count": 54,
   "metadata": {},
   "outputs": [
    {
     "data": {
      "text/plain": [
       "True"
      ]
     },
     "execution_count": 54,
     "metadata": {},
     "output_type": "execute_result"
    }
   ],
   "source": [
    "v1.shape == v2.shape"
   ]
  },
  {
   "cell_type": "markdown",
   "metadata": {},
   "source": [
    "Si vous avez correctement déclaré votre vecteur `v2`, vous devriez ici obtenir la valeur `True`.\n"
   ]
  },
  {
   "cell_type": "markdown",
   "metadata": {},
   "source": [
    "---\n",
    "\n",
    "## Opérations mathématiques entre objets ndarray\n",
    "\n",
    "\n",
    "Nous n'étudions pas les objets `ndarray` dans le cadre de ce TP sans raison ! Comme nous l'avons vu précédemment, il est impossible de réaliser simplement des opérations mathématiques vectorielles en utilisant des objets de type `list`. Les objets de type `ndarray` le permettent, et c'est ce qui fait pour les scientifiques tout leur intérêt. \n",
    "\n",
    "Il s'agit donc maintenant de tester les opérations mathématiques de base entre les deux vecteurs que vous avez défini précédemment `v1` et `v2`. \n",
    "\n",
    "><div class=\"alert alert-block alert-info\">Testez dans les cellules suivantes les résultats de l'addition, de la soustraction et de la multiplication de ces deux vecteurs `v1` et `v2` : </div>"
   ]
  },
  {
   "cell_type": "code",
   "execution_count": 55,
   "metadata": {},
   "outputs": [
    {
     "name": "stdout",
     "output_type": "stream",
     "text": [
      "[ 8 10 12]\n"
     ]
    }
   ],
   "source": [
    "v12 = v1 + v2 ; print(v12)"
   ]
  },
  {
   "cell_type": "code",
   "execution_count": 56,
   "metadata": {},
   "outputs": [
    {
     "name": "stdout",
     "output_type": "stream",
     "text": [
      "[-6 -6 -6]\n"
     ]
    }
   ],
   "source": [
    "v21 = v1-v2; print(v21)"
   ]
  },
  {
   "cell_type": "code",
   "execution_count": 57,
   "metadata": {},
   "outputs": [
    {
     "name": "stdout",
     "output_type": "stream",
     "text": [
      "[ 7 16 27]\n"
     ]
    }
   ],
   "source": [
    "v22 = v1*v2 ; print(v22)"
   ]
  },
  {
   "cell_type": "markdown",
   "metadata": {},
   "source": [
    "><div class=\"alert alert-block alert-info\">\n",
    "Selon l'opération, le résultat correspond il à vos attentes ? Quelle opération est effectuée ici ?</div>"
   ]
  },
  {
   "cell_type": "markdown",
   "metadata": {},
   "source": [
    "Pour multiplier deux vecteurs (de même dimension), deux matrices (de même dimension) ou un vecteur et une matrice (de même dimension transverse) de manière mathématique, sous Python on utilise un opérateur différent de l'opérateur multiplication `\"*\"`. Il s'agit de l'opérateur `\"@\"`\n",
    "\n",
    "><div class=\"alert alert-block alert-info\">Testez à nouveau la multiplication de `v1` et `v2` avec l'opérateur `@` </div>"
   ]
  },
  {
   "cell_type": "code",
   "execution_count": 58,
   "metadata": {},
   "outputs": [
    {
     "name": "stdout",
     "output_type": "stream",
     "text": [
      "50\n"
     ]
    }
   ],
   "source": [
    "v3 = v1@v2 ; print(v3)"
   ]
  },
  {
   "cell_type": "markdown",
   "metadata": {},
   "source": [
    "><div class=\"alert alert-block alert-info\"> Cela correspond il à vos attentes ? </div>\n",
    "\n",
    "><div class=\"alert alert-block alert-warning\"> L'opérateur `*` permet de réaliser la multiplication terme à terme de vecteurs ou de matrices, tandis que l'opérateur `@` est utilisé pour la multiplication matricielle au sens mathématiques. </div>"
   ]
  },
  {
   "cell_type": "markdown",
   "metadata": {},
   "source": [
    "---\n",
    "\n",
    "## Les matrices avec numpy\n",
    "\n",
    "Maintenant que vous maîtrisez la déclaration de vecteurs et les opérations entre vecteurs, nous allons étudier les matrices ! \n",
    "\n",
    "> **Note:** *Rappelons ici qu'un vecteur n'est autre qu'une matrice de dimension (n, 1) ou (1,n) ! *\n",
    "\n",
    "Pour déclarer une matrice manuellement, nous utiliserons également la fonction `array` du module `numpy`.\n",
    "Pour déclarer une matrice, la syntaxe suivante est utilisée :\n",
    "\n",
    "```python\n",
    "np.array([[1, 2, 4], [4, 5, 6], [7, 8, 9]])\n",
    "```\n",
    "\n",
    "Cette instruction permet de convertir la liste de liste `[ [1, 2, 3], [4, 5, 6], [7, 8, 9] ]` en objet `ndarray` à l'aide de la commande `array` du module `numpy`. Ce type de syntaxe permet de générer une matrice (3, 3) dont la première ligne est le vecteur [1, 2, 3], la seconde ligne, le vecteur [4, 5, 6], et enfin la troisième ligne, le vecteur [7, 8, 9]. L'ensemble, entouré de crochets, représente bel et bien une matrice (3, 3)\n",
    "\n",
    "><div class=\"alert alert-block alert-info\"> Déclarer cette matrice en tant qu'objet nommé `m1` et vérifiez sa forme :</div>"
   ]
  },
  {
   "cell_type": "code",
   "execution_count": 61,
   "metadata": {},
   "outputs": [
    {
     "name": "stdout",
     "output_type": "stream",
     "text": [
      "[[1 2 3]\n",
      " [4 5 6]\n",
      " [7 8 9]]\n"
     ]
    }
   ],
   "source": [
    "m1 = np.array([[1,2,3],[4,5,6],[7,8,9]]);\n",
    "print(m1)"
   ]
  },
  {
   "cell_type": "markdown",
   "metadata": {},
   "source": [
    "><div class=\"alert alert-block alert-info\">Déclarez une seconde matrice de même dimension dont vous choisirez les valeurs. Vous nommerez cette matrice `m2` et vous exécuterez la multiplication mathématique et la multiplication terme à terme de cette matrice avec `m1`:</div>"
   ]
  },
  {
   "cell_type": "code",
   "execution_count": 62,
   "metadata": {},
   "outputs": [
    {
     "name": "stdout",
     "output_type": "stream",
     "text": [
      "[[3, 2, 1], [6, 5, 4], [9, 8, 7]]\n"
     ]
    }
   ],
   "source": [
    "m2 = ([[3,2,1],[6,5,4],[9,8,7]]);\n",
    "print(m2)"
   ]
  },
  {
   "cell_type": "code",
   "execution_count": 64,
   "metadata": {},
   "outputs": [
    {
     "name": "stdout",
     "output_type": "stream",
     "text": [
      "[[ 3  4  3]\n",
      " [24 25 24]\n",
      " [63 64 63]]\n"
     ]
    }
   ],
   "source": [
    "m3 = m1*m2;\n",
    "print(m3)"
   ]
  },
  {
   "cell_type": "code",
   "execution_count": 65,
   "metadata": {},
   "outputs": [
    {
     "name": "stdout",
     "output_type": "stream",
     "text": [
      "[[ 42  36  30]\n",
      " [ 96  81  66]\n",
      " [150 126 102]]\n"
     ]
    }
   ],
   "source": [
    "m12 = m1@m2;\n",
    "print(m12)"
   ]
  },
  {
   "cell_type": "markdown",
   "metadata": {},
   "source": [
    "---\n",
    "\n",
    "## Les constructeurs ndarray \n",
    "\n",
    "---\n",
    "\n",
    "### La fonction arange\n",
    "\n",
    "\n",
    "La fonction `arange` permet de créer simplement des vecteurs. Cette fonction a la syntaxe suivante : \n",
    "\n",
    "```python\n",
    "np.arange(start, stop, step)     # start=début, stop=fin, step=le pas\n",
    "```\n",
    "\n",
    "><div class=\"alert alert-block alert-info\">Créez un vecteur que vous nommerez `v1`, allant de 0 à 10 inclus par pas de 2 et affichez le.</div>"
   ]
  },
  {
   "cell_type": "code",
   "execution_count": 71,
   "metadata": {},
   "outputs": [
    {
     "name": "stdout",
     "output_type": "stream",
     "text": [
      "[ 0  2  4  6  8 10]\n"
     ]
    }
   ],
   "source": [
    "import numpy as np\n",
    "v1 = np.arange(0,12,2)\n",
    "print(v1)"
   ]
  },
  {
   "cell_type": "markdown",
   "metadata": {},
   "source": [
    "N'y a t'il pas quelque chose qui vous chiffonne ????\n",
    "\n",
    "><div class=\"alert alert-block alert-info\">Retentez votre chance pour créer le vecteur voulu ! </div>"
   ]
  },
  {
   "cell_type": "markdown",
   "metadata": {},
   "source": [
    "<div class=\"alert alert-block alert-warning\">**Important :** la *valeur de fin* en Python est *non inclusive*... </div>\n",
    "\n",
    "Vous pouvez maintenant créer tout un tas de vecteurs facilement à l'aide de la fonction `arange` !\n",
    "Mais alors comment créer une matrice ? "
   ]
  },
  {
   "cell_type": "markdown",
   "metadata": {},
   "source": [
    "---\n",
    "\n",
    "### La méthode reshape\n",
    "\n",
    "Les objets `ndarray` héritent d'une méthode extrêmement utile nommée `reshape()`\n",
    "\n",
    ">**Note :** *Vous aurez peut être remarqué que les attributs s'appellent clairement par leur nom (comme l'attribut `shape` que vous avez utilisé précédemment), mais que les méthode (fonctions) s'appellent par leur nom + () tel que reshape() ! Un attribut n'est autre qu'une caractéristique, il n'y a donc pas besoin d'argument. Une méthode quand à elle est une fonction, or les fonctions prennent un ou des arguments !*\n",
    "\n",
    "La fonction `reshape()` prend en argument d'entrée la taille souhaitée de l'objet final. Par exemple :\n",
    "\n",
    "```python\n",
    "np.arange(9).reshape(3, 3)\n",
    "```\n",
    "\n",
    "><div class=\"alert alert-block alert-info\">Testez cette instruction dans la cellule suivante : </div>"
   ]
  },
  {
   "cell_type": "code",
   "execution_count": 74,
   "metadata": {},
   "outputs": [
    {
     "name": "stdout",
     "output_type": "stream",
     "text": [
      "[[0 1 2]\n",
      " [3 4 5]\n",
      " [6 7 8]]\n"
     ]
    }
   ],
   "source": [
    "t1 = np.arange(9).reshape(3,3)\n",
    "print(t1)"
   ]
  },
  {
   "cell_type": "markdown",
   "metadata": {},
   "source": [
    "<div class=\"alert alert-block alert-warning\">**Important :** Vous avez pu constater que ni la valeur de *début*, ni la valeur du *pas* sont précisés dans la fonction `arange`. Ces deux arguments sont **optionnels**. La valeur *par défaut* du début est 0, et la valeur *par défaut* du pas est 1. On génère ainsi, avec `arange(9)`, un vecteur allant de 0 à 8 par pas de 1 (9 est bien sûr non inclus !)</div>\n",
    "\n",
    "><div class=\"alert alert-block alert-info\"> Aidez vous de la fonction `arange` pour créer deux matrices carrées de même dimension `m1` et `m2` ayant des valeurs différentes (on choisira ici des matrices 4x4) et effectuez leur multiplication terme à terme et leur multiplication mathématique : </div>"
   ]
  },
  {
   "cell_type": "code",
   "execution_count": 77,
   "metadata": {},
   "outputs": [],
   "source": [
    "m1 = np.arange(1,17,1).reshape(4,4)"
   ]
  },
  {
   "cell_type": "code",
   "execution_count": 81,
   "metadata": {},
   "outputs": [],
   "source": [
    "m2 = np.arange(16,0,-1).reshape(4,4)"
   ]
  },
  {
   "cell_type": "code",
   "execution_count": 82,
   "metadata": {},
   "outputs": [
    {
     "name": "stdout",
     "output_type": "stream",
     "text": [
      "[[16 30 42 52]\n",
      " [60 66 70 72]\n",
      " [72 70 66 60]\n",
      " [52 42 30 16]]\n",
      "[[ 80  70  60  50]\n",
      " [240 214 188 162]\n",
      " [400 358 316 274]\n",
      " [560 502 444 386]]\n"
     ]
    }
   ],
   "source": [
    "m3 = m1*m2\n",
    "m4 = m1@m2\n",
    "print(m3)\n",
    "print(m4)"
   ]
  },
  {
   "cell_type": "markdown",
   "metadata": {},
   "source": [
    "---\n",
    "\n",
    "### Constructeurs ndarray de base\n",
    "\n",
    "Voici les constructeurs ndarray les plus utilisés :\n",
    "\n",
    "* linspace(start, stop, N), qui permet de créer un vecteur allant de *start* à *stop* avec N valeurs (équi-réparties)\n",
    "* zeros((M, N)), qui permet de créer un matrice remplie de zéros de dimension (M, N)\n",
    "* ones((M, N)), qui permet de créer un matrice remplie de 1 de dimension (M, N)\n",
    "* full((M, N), val), qui permet de créer un matrice remplie par la valeur 'val' de dimension (M, N)\n",
    "\n",
    "><div class=\"alert alert-block alert-info\"> Testez ces différentes fonctions ! Pratiquez ! </div>"
   ]
  },
  {
   "cell_type": "code",
   "execution_count": null,
   "metadata": {},
   "outputs": [],
   "source": []
  },
  {
   "cell_type": "markdown",
   "metadata": {},
   "source": [
    "> **Note :** Vous aurez noté une certaine ressemblance entre les fonctions de MATLab et les fonctions et outils présents dans `numpy`. Un récapitulatif des différences et des traductions possibles entre les deux langages est disponibles sur :\n",
    "> \n",
    "> https://docs.scipy.org/doc/numpy-dev/user/numpy-for-matlab-users.html"
   ]
  },
  {
   "cell_type": "markdown",
   "metadata": {},
   "source": [
    "---\n",
    "\n",
    "# Le module Matplotlib"
   ]
  },
  {
   "cell_type": "markdown",
   "metadata": {},
   "source": [
    "Avant de passer à la suite, nous allons tout d'abord revenir à un environnement de travail vierge. Pour ce faire, utilisez la commande Jupyter `reset`. \n",
    "\n",
    "><div class=\"alert alert-block alert-info\">\n",
    "Tapez puis exécutez `reset -f` dans la cellule suivante :</div>"
   ]
  },
  {
   "cell_type": "code",
   "execution_count": 2,
   "metadata": {},
   "outputs": [],
   "source": [
    "reset -f"
   ]
  },
  {
   "cell_type": "markdown",
   "metadata": {},
   "source": [
    "---\n",
    "\n",
    "## Le sous module pyplot de matplotlib\n",
    "\n",
    "L'un des modules les plus utilisés pour afficher des données scientifiques est `Matplotlib`. Nous utiliserons en particulier le sous module `pyplot` de `Matplotlib` qui fourni des outils simples pour la création de figures.\n",
    "\n",
    "Pour importer ce module, il suffit de taper : \n",
    "\n",
    "```python\n",
    "import matplotlib.pyplot as plt\n",
    "```\n",
    "\n",
    "Le raccourci `plt` est le raccourci couramment utilisé par la communauté. Vous pouvez bien entendu utiliser le raccourci que vous souhaitez, mais il est fortement conseillé de suivre cette convention collective.\n",
    "\n",
    "><div class=\"alert alert-block alert-info\"> Commencez donc par importer le sous module `pyplot` du module `matplotlib`, et également le module `numpy` :</div>"
   ]
  },
  {
   "cell_type": "code",
   "execution_count": 2,
   "metadata": {},
   "outputs": [],
   "source": [
    "import matplotlib.pyplot as plt\n",
    "import numpy as np"
   ]
  },
  {
   "cell_type": "markdown",
   "metadata": {},
   "source": [
    "><div class=\"alert alert-block alert-info\">\n",
    "Créez maintenant un vecteur `x` allant de 0 à 2$\\pi$ contenant 100 valeurs, puis utilisez la fonction `sin()` de `numpy` pour calculer le sinus de ce vecteur que vous nommerez `y` :</div>\n",
    "\n",
    "> **Note:** *Vous pouvez utilisez l'attribut `pi` de `numpy` qui fournit une valeur de $\\pi$* "
   ]
  },
  {
   "cell_type": "code",
   "execution_count": 3,
   "metadata": {},
   "outputs": [],
   "source": [
    "x = np.linspace(0,2*np.pi,100)\n",
    "\n",
    "y = np.sin(x)\n"
   ]
  },
  {
   "cell_type": "markdown",
   "metadata": {},
   "source": [
    "> **Note :** *Vous pouvez vérifier au passage que tout semble cohérent, et en particulier le nombre d'éléments de chaque vecteur, en regardant les variables connues par Jupyter*"
   ]
  },
  {
   "cell_type": "code",
   "execution_count": 4,
   "metadata": {},
   "outputs": [
    {
     "name": "stdout",
     "output_type": "stream",
     "text": [
      "Variable   Type       Data/Info\n",
      "-------------------------------\n",
      "np         module     <module 'numpy' from 'C:\\<...>ges\\\\numpy\\\\__init__.py'>\n",
      "plt        module     <module 'matplotlib.pyplo<...>\\\\matplotlib\\\\pyplot.py'>\n",
      "x          ndarray    100: 100 elems, type `float64`, 800 bytes\n",
      "y          ndarray    100: 100 elems, type `float64`, 800 bytes\n"
     ]
    }
   ],
   "source": [
    "whos"
   ]
  },
  {
   "cell_type": "markdown",
   "metadata": {},
   "source": [
    ">**Note : ** *Vous pouvez trouver la documentation de Matplotlib sur le site officiel https://matplotlib.org/*"
   ]
  },
  {
   "cell_type": "markdown",
   "metadata": {},
   "source": [
    "---\n",
    "\n",
    "## Première figure sous Python\n",
    "\n",
    "Nous allons maintenant créer notre première figure. Pour ce faire, il vous faudra généralement procéder en trois étapes minimales : \n",
    "\n",
    "* initialiser un nouvel objet *figure* avec la commande `figure()` de `pyplot` qui peut être appelé sans arguments\n",
    "* tracer vos données dans l'objet figure avec par exemple la commande `plot()` de `pyplot`\n",
    "* afficher votre objet figure avec la commande `show()` de `pyplot` qui peut être appelé sans arguments\n",
    "\n",
    "><div class=\"alert alert-block alert-info\"> A vous de jouer !</div>\n",
    "\n",
    "> **Note :** *N'oubliez pas que vous pouvez utiliser la commande ``help()`` à tout moment pour afficher l'aide d'une fonction. Par exemple `help(plt.plot)`*\n"
   ]
  },
  {
   "cell_type": "code",
   "execution_count": 6,
   "metadata": {},
   "outputs": [
    {
     "data": {
      "image/png": "[encoded data removed]",
      "text/plain": [
       "<Figure size 432x288 with 1 Axes>"
      ]
     },
     "metadata": {
      "needs_background": "light"
     },
     "output_type": "display_data"
    }
   ],
   "source": [
    "plt.figure()\n",
    "plt.plot(x,y)\n",
    "plt.show()\n",
    "\n"
   ]
  },
  {
   "cell_type": "markdown",
   "metadata": {},
   "source": [
    "Jouez avec les options de la commande `plot` afin de :\n",
    "\n",
    "* changer la couleur de votre tracé,\n",
    "* changer le style de ligne de votre tracé.\n",
    "\n",
    "><div class=\"alert alert-block alert-info\"> Faîtes différents essais !\n",
    "</div>\n",
    "\n",
    ">**Rappel** : *Vous pouvez ajouter des lignes au notebook dans le menu **insert** ou en utilisant l'icône **+** dans la barre d'outils.*"
   ]
  },
  {
   "cell_type": "code",
   "execution_count": 17,
   "metadata": {},
   "outputs": [
    {
     "data": {
      "image/png": "[encoded data removed]",
      "text/plain": [
       "<Figure size 432x288 with 2 Axes>"
      ]
     },
     "metadata": {
      "needs_background": "light"
     },
     "output_type": "display_data"
    }
   ],
   "source": [
    "plt.figure(1)\n",
    "plt.subplot(211)\n",
    "plt.plot(x,y,'k*')\n",
    "plt.subplot(212)\n",
    "plt.plot(y,x)\n",
    "plt.show()"
   ]
  },
  {
   "cell_type": "markdown",
   "metadata": {},
   "source": [
    "><div class=\"alert alert-block alert-info\">\n",
    "Il va maintenant falloir ajouter les noms des axes, une légende, et un titre à notre figure ! Utilisez pour ce faire les fonctions `xlabel()`, `ylabel()`, `legend()` et `title()` du sous module `pyplot`</div>\n",
    "\n",
    ">**Note :** Pour ce qui est de la légende, il vous faudra tout d'abord déclarer le nom de vos tracés au sein de la fonction `plot` à l'aide du mot clé `label` comme suit : `plt.plot(x, y, label='Ma courbe')`"
   ]
  },
  {
   "cell_type": "code",
   "execution_count": 24,
   "metadata": {},
   "outputs": [
    {
     "data": {
      "image/png": "[encoded data removed]",
      "text/plain": [
       "<Figure size 432x288 with 1 Axes>"
      ]
     },
     "metadata": {
      "needs_background": "light"
     },
     "output_type": "display_data"
    }
   ],
   "source": [
    "plt.figure(1)\n",
    "plt.plot(x,y,'k--',label='Basic sine')  #Each legend to be defined in the plot command\n",
    "plt.xlabel('Time (s)')\n",
    "plt.ylabel('Amplitude (NA)')\n",
    "plt.title('First plt figure')\n",
    "plt.legend()                            # But need to be called in a specific labal() command\n",
    "plt.show()"
   ]
  },
  {
   "cell_type": "markdown",
   "metadata": {},
   "source": [
    "Comme vous l'avez constaté, les légendes et labels sont simple à mettre en place. Si vous le souhaitez, vous pouvez également insérer du texte formaté en $ \\LaTeX$ dans vos figures. Pour ce faire, il suffit d'ajouter le préfixe 'r' à vos chaînes de caractères, puis d'écrire votre texte et vos équations comme vous les écrivez classiquement en LaTeX. Par exemple :\n",
    "\n",
    "```python\n",
    "plt.xlabel(r'$x$')\n",
    "```\n",
    "\n",
    "Notez également que vous pouvez changer la taille de vos polices de caractères grâce au mot clé `fontsize` accepté par les méthodes `xlabel()`, `xlabel()`, `legend()` et `title()`. Par exemple : \n",
    "\n",
    "```python\n",
    "plt.xlabel(r'$x$', fontsize=24)\n",
    "```\n",
    "\n",
    "Il est également possible de changer la taille de votre figure grâce au mot clé `figsize` accepté par la méthode `figure()`. :\n",
    "\n",
    "```python\n",
    "plt.figure(figsize=(12, 6))   # 12 suivant en largeur, 6 en hauteur\n",
    "```"
   ]
  },
  {
   "cell_type": "markdown",
   "metadata": {
    "collapsed": true
   },
   "source": [
    "---\n",
    "\n",
    "## Superposition de courbes sur une même figure\n",
    "\n",
    "Pour superposer plusieurs courbes sur une même figure, vous avez deux principales options: \n",
    "\n",
    "* Ajouter les variables à tracer \"en série\" dans un même `plot()`, soit par exemple : `plt.plot(x1, y1, x2, y2)`\n",
    "* Répéter la fonction `plot()` avec de nouveaux arguments d'entrée\n",
    "\n",
    "><div class=\"alert alert-block alert-info\">\n",
    "Déclarez un nouveau vecteur `z` qui contiendra les valeurs du cosinus de `x` entre 0 et 2$\\pi$. Testez les deux options présentées précédemment afin de tracer `y` et `z` en fonction de `x` sur la même figure :</div>"
   ]
  },
  {
   "cell_type": "code",
   "execution_count": 25,
   "metadata": {},
   "outputs": [],
   "source": [
    "z = np.cos(x)"
   ]
  },
  {
   "cell_type": "code",
   "execution_count": 29,
   "metadata": {},
   "outputs": [
    {
     "data": {
      "image/png": "[encoded data removed]",
      "text/plain": [
       "<Figure size 432x288 with 1 Axes>"
      ]
     },
     "metadata": {
      "needs_background": "light"
     },
     "output_type": "display_data"
    }
   ],
   "source": [
    "plt.figure(2)\n",
    "plt.plot(x,y,x,z)\n",
    "plt.show()"
   ]
  },
  {
   "cell_type": "markdown",
   "metadata": {},
   "source": [
    "---\n",
    "\n",
    "## La notion de sous figures\n",
    "\n",
    "Avec `pyplot`, il est également possible de tracer plusieurs sous figures sur une même figure. \n",
    "Pour ce faire, on utilise généralement la fonction `subplot()` qui permet de construire une grille dans laquelle seront tracées les sous figures. La fonction `subplot()` prend 3 arguments d'entrée (de type `int`) : \n",
    "\n",
    "* Le premier désigne le nombre le lignes de votre grille\n",
    "* Le second chiffre désigne le nombre de colonnes de votre grille\n",
    "* Le troisième chiffre désigne l'indice de notre figure dans cette grille\n",
    "\n",
    "Par exemple, pour tracer une figure contenant 4 sous figures disposées dans une grille 2x2, il convient d'écrire : \n",
    "\n",
    "```python\n",
    "plt.figure()\n",
    "plt.subplot(2, 2, 1)\n",
    "(... on trace la figure 1)\n",
    "plt.subplot(2, 2, 2)\n",
    "(... on trace la figure 2)\n",
    "plt.subplot(2, 2, 3)\n",
    "(... on trace la figure 3)\n",
    "plt.subplot(2, 2, 4)\n",
    "(... on trace la figure 4)\n",
    "plt.show()\n",
    "```\n",
    "\n",
    "><div class=\"alert alert-block alert-info\">\n",
    "Tracez une figure contenant 2 sous figures. La première sous figure présentera le tracé de la fonction sinus entre 0 et 2$\\pi$. La seconde sous figure présentera le tracé de la fonction cosinus entre 0 et 2$\\pi$. Vous attribuerez également un titre à chacune des sous figures et renseignerez les labels ($x$ et $y$) !</div>"
   ]
  },
  {
   "cell_type": "code",
   "execution_count": null,
   "metadata": {},
   "outputs": [],
   "source": [
    "\n"
   ]
  },
  {
   "cell_type": "markdown",
   "metadata": {},
   "source": [
    ">**Note :** Souvent, lorsque vous tracez des sous-figures, les trames de chaque figure ont tendance à se superposer, ce qui peut amener à rendre les axes et label illisibles. Pour éviter cela il existe la fonction `plt.tight_layout()` fournie par le sous module `pyplot`, qui, appelée sans arguments, exécute un auto ajustement des trames des sous figures. Cette fonction s'applique à toute la figure courante, et est généralement appelée juste avant `plt.show()` "
   ]
  },
  {
   "cell_type": "markdown",
   "metadata": {},
   "source": [
    "---\n",
    "\n",
    "# Indexation et slicing"
   ]
  },
  {
   "cell_type": "markdown",
   "metadata": {},
   "source": [
    "Avant de passer à la suite, nous allons tout d'abord revenir à un environnement de travail vierge. Pour ce faire, utilisez la commande Jupyter `reset`. \n",
    "\n",
    "><div class=\"alert alert-block alert-info\">\n",
    "Tapez puis exécutez `reset -f` dans la cellule suivante :</div>"
   ]
  },
  {
   "cell_type": "code",
   "execution_count": 31,
   "metadata": {},
   "outputs": [],
   "source": [
    "reset -f"
   ]
  },
  {
   "cell_type": "markdown",
   "metadata": {
    "collapsed": true
   },
   "source": [
    "\n",
    "---\n",
    "\n",
    "## L'indexation sous Python\n",
    "\n",
    "Comme vous l'avez vu précédemment, certains types d'objets sous Python peuvent contenir plusieurs éléments. C'est le cas par exemple des objets `ndarray` (vecteurs et matrices), mais aussi des chaînes de caractères. Il est parfois nécessaire d'accéder uniquement à une partie déterminée d'un objet. C'est là qu'apparaît la notion d'*indexation*, et nous le verrons un peu après, de *slicing*. \n",
    "\n",
    "><div class=\"alert alert-block alert-info\">\n",
    "Considérons le cas de la chaîne de caractères 'Python'. Affectez cette chaine de caractère à un objet de votre choix.</div>"
   ]
  },
  {
   "cell_type": "code",
   "execution_count": 1,
   "metadata": {},
   "outputs": [],
   "source": [
    "str1 = 'Python'"
   ]
  },
  {
   "cell_type": "markdown",
   "metadata": {},
   "source": [
    "La fonction de base `len(obj)` de Python permet d'afficher le nombre d'éléments de l'objet *obj*. \n",
    "\n",
    "><div class=\"alert alert-block alert-info\">\n",
    "Testez cette fonction sur l'objet que vous venez de définir, et tirez en vos conclusions.</div>"
   ]
  },
  {
   "cell_type": "code",
   "execution_count": 2,
   "metadata": {},
   "outputs": [
    {
     "data": {
      "text/plain": [
       "6"
      ]
     },
     "execution_count": 2,
     "metadata": {},
     "output_type": "execute_result"
    }
   ],
   "source": [
    "len(str1)"
   ]
  },
  {
   "cell_type": "markdown",
   "metadata": {},
   "source": [
    "Le premier élément d'un objet sous Python est **l'élément d'indice 0**. Le second est celui d'indice 1 et ainsi de suite. Afin d'extraire un élément d'un objet on utilise les crochets : []. \n",
    "Si mon objet porte le nom MyObj, je peux accéder à l'élément 0 en exécutant MyObj[0] !\n",
    "\n",
    "><div class=\"alert alert-block alert-info\">\n",
    "Tentez d'extraire l'élément 2 de votre objet précédemment défini. Le résultat correspond il à vos attentes ?</div>"
   ]
  },
  {
   "cell_type": "code",
   "execution_count": 3,
   "metadata": {},
   "outputs": [
    {
     "data": {
      "text/plain": [
       "'y'"
      ]
     },
     "execution_count": 3,
     "metadata": {},
     "output_type": "execute_result"
    }
   ],
   "source": [
    "extract = str1[1]\n",
    "extract"
   ]
  },
  {
   "cell_type": "markdown",
   "metadata": {},
   "source": [
    "><div class=\"alert alert-block alert-info\">\n",
    "Définissez maintenant un vecteur contenant les 3 éléments 1, 2 et 3, puis tentez d'accéder à chacun de ces 3 éléments :</div>"
   ]
  },
  {
   "cell_type": "code",
   "execution_count": 5,
   "metadata": {},
   "outputs": [],
   "source": [
    "import numpy as np\n",
    "v = np.array([1 ,2 ,3])"
   ]
  },
  {
   "cell_type": "code",
   "execution_count": 6,
   "metadata": {},
   "outputs": [
    {
     "data": {
      "text/plain": [
       "1"
      ]
     },
     "execution_count": 6,
     "metadata": {},
     "output_type": "execute_result"
    }
   ],
   "source": [
    "v1 = v[0]\n",
    "v1"
   ]
  },
  {
   "cell_type": "code",
   "execution_count": 8,
   "metadata": {},
   "outputs": [
    {
     "data": {
      "text/plain": [
       "2"
      ]
     },
     "execution_count": 8,
     "metadata": {},
     "output_type": "execute_result"
    }
   ],
   "source": [
    "v2 = v[1]\n",
    "v2"
   ]
  },
  {
   "cell_type": "code",
   "execution_count": 11,
   "metadata": {},
   "outputs": [
    {
     "data": {
      "text/plain": [
       "3"
      ]
     },
     "execution_count": 11,
     "metadata": {},
     "output_type": "execute_result"
    }
   ],
   "source": [
    "v3 = v[2]\n",
    "v3"
   ]
  },
  {
   "cell_type": "markdown",
   "metadata": {},
   "source": [
    "Lorsqu'on manipule des objets comportant de nombreux éléments, il peut être fastidieux d'accéder aux derniers éléments. Pour simplifier les choses, Python interprète le dernier élément comme élément d'indice -1, l'avant dernier, comme l'élément d'indice -2, et ainsi de suite... \n",
    "\n",
    "><div class=\"alert alert-block alert-info\">\n",
    "Définissez maintenant un vecteur contenant 100 éléments allant de 0 à 99, puis tentez d'accéder au dernier élément, à l'avant dernier élément, et à l'antépénultième élément. Les résultats correspondent ils à vos attentes ? "
   ]
  },
  {
   "cell_type": "code",
   "execution_count": 21,
   "metadata": {},
   "outputs": [
    {
     "data": {
      "text/plain": [
       "array([ 0,  1,  2,  3,  4,  5,  6,  7,  8,  9, 10, 11, 12, 13, 14, 15, 16,\n",
       "       17, 18, 19, 20, 21, 22, 23, 24, 25, 26, 27, 28, 29, 30, 31, 32, 33,\n",
       "       34, 35, 36, 37, 38, 39, 40, 41, 42, 43, 44, 45, 46, 47, 48, 49, 50,\n",
       "       51, 52, 53, 54, 55, 56, 57, 58, 59, 60, 61, 62, 63, 64, 65, 66, 67,\n",
       "       68, 69, 70, 71, 72, 73, 74, 75, 76, 77, 78, 79, 80, 81, 82, 83, 84,\n",
       "       85, 86, 87, 88, 89, 90, 91, 92, 93, 94, 95, 96, 97, 98, 99])"
      ]
     },
     "execution_count": 21,
     "metadata": {},
     "output_type": "execute_result"
    }
   ],
   "source": [
    "v = np.arange(100)\n",
    "v"
   ]
  },
  {
   "cell_type": "code",
   "execution_count": 22,
   "metadata": {},
   "outputs": [
    {
     "data": {
      "text/plain": [
       "99"
      ]
     },
     "execution_count": 22,
     "metadata": {},
     "output_type": "execute_result"
    }
   ],
   "source": [
    "vlast = v[-1]\n",
    "vlast"
   ]
  },
  {
   "cell_type": "code",
   "execution_count": 23,
   "metadata": {},
   "outputs": [
    {
     "data": {
      "text/plain": [
       "98"
      ]
     },
     "execution_count": 23,
     "metadata": {},
     "output_type": "execute_result"
    }
   ],
   "source": [
    "valast = v[-2]\n",
    "valast"
   ]
  },
  {
   "cell_type": "code",
   "execution_count": 24,
   "metadata": {},
   "outputs": [
    {
     "data": {
      "text/plain": [
       "97"
      ]
     },
     "execution_count": 24,
     "metadata": {},
     "output_type": "execute_result"
    }
   ],
   "source": [
    "vaalast = v[-3]\n",
    "vaalast"
   ]
  },
  {
   "cell_type": "markdown",
   "metadata": {},
   "source": [
    "---\n",
    "\n",
    "## Le slicing sous Python\n",
    "\n",
    "Là où l'indexation permet d'accéder à un élément, le slicing permet, entre autre, d'accéder à plusieurs éléments simultanément. Là où pour l'indexation, un unique indice est utilisé, pour le slicing, trois indices, séparés par le caractère \":\" sont utilisés : \n",
    "\n",
    "* l'indice de début de la plage de données à sélectionner,\n",
    "* l'indice de fin (non inclus) de la plage de données à sélectionner,\n",
    "* le pas qui est optionnel (s'il n'est pas précisé, il sera égal à 1). \n",
    "\n",
    "Par exemple, les lignes :\n",
    "\n",
    "```python\n",
    "v = np.arange(100)\n",
    "v[5:10:2]\n",
    "```\n",
    "\n",
    "donnerons :\n",
    "\n",
    "```python\n",
    "array([5, 7, 9])\n",
    "```\n",
    "\n",
    "><div class=\"alert alert-block alert-info\">Testez : créez un vecteur de 100 éléments allant de 1 à 100, et sélectionnez :</div>\n",
    "\n",
    "* Les 5 premiers éléments impairs\n",
    "* Les 5 derniers éléments\n",
    "* Les **valeurs** de cet objet comprises entre 11 et 47 inclus par pas de 3\n",
    "\n",
    ">**Note :** *Si l'indice de début n'est pas précisé, il est égal à 0 par défaut. De la même manière, si l'indice de fin n'est pas précisé, il sera égal à l'indice de la dernière valeur par défaut. Par exemple le slice [:2] permettra de sélectionner les deux premières valeurs par pas de 1, tandis que le slice [-2:] permettra de sélectionner les deux dernières par pas de 1.*"
   ]
  },
  {
   "cell_type": "code",
   "execution_count": 25,
   "metadata": {},
   "outputs": [],
   "source": [
    "v = np.arange(100)"
   ]
  },
  {
   "cell_type": "code",
   "execution_count": 26,
   "metadata": {},
   "outputs": [],
   "source": [
    "vlast = v[-5]"
   ]
  },
  {
   "cell_type": "code",
   "execution_count": null,
   "metadata": {},
   "outputs": [],
   "source": []
  },
  {
   "cell_type": "code",
   "execution_count": null,
   "metadata": {},
   "outputs": [],
   "source": []
  },
  {
   "cell_type": "code",
   "execution_count": null,
   "metadata": {},
   "outputs": [],
   "source": []
  },
  {
   "cell_type": "markdown",
   "metadata": {},
   "source": [
    "---\n",
    "\n",
    "# Les Entrées/Sorties : le cas des E/S standard"
   ]
  },
  {
   "cell_type": "markdown",
   "metadata": {},
   "source": [
    "Avant de passer à la suite, nous allons tout d'abord revenir à un environnement de travail vierge. Pour ce faire, utilisez la commande Jupyter `reset`. \n",
    "\n",
    "><div class=\"alert alert-block alert-info\">\n",
    "Tapez puis exécutez `reset -f` dans la cellule suivante :</div>"
   ]
  },
  {
   "cell_type": "code",
   "execution_count": null,
   "metadata": {
    "collapsed": true
   },
   "outputs": [],
   "source": []
  },
  {
   "cell_type": "markdown",
   "metadata": {},
   "source": [
    "\n",
    "---\n",
    "\n",
    "## Les entrées \"standard\" sous Python\n",
    "\n",
    "---\n",
    "\n",
    "### La fonction input\n",
    "\n",
    "Les *entrées* sous Python se font grâce à la fonction `input()`. \n",
    "\n",
    "Afin de mieux comprendre son utilisation tapez directement la commande dans la cellule suivante\n",
    "\n",
    "```python\n",
    "a = input('Entrez une valeur : ')\n",
    "```\n",
    "\n",
    "><div class=\"alert alert-block alert-info\">Allez-y :</div>"
   ]
  },
  {
   "cell_type": "code",
   "execution_count": null,
   "metadata": {},
   "outputs": [],
   "source": []
  },
  {
   "cell_type": "markdown",
   "metadata": {},
   "source": [
    "Vous avez du voir s'afficher votre message, et l'interface Jupyter attendant une entrée de votre part. \n",
    "\n",
    "><div class=\"alert alert-block alert-info\">Regardez maintenant quelles variables Jupyter connait</div>"
   ]
  },
  {
   "cell_type": "code",
   "execution_count": null,
   "metadata": {},
   "outputs": [],
   "source": []
  },
  {
   "cell_type": "markdown",
   "metadata": {},
   "source": [
    "><div class=\"alert alert-block alert-info\">\n",
    "Vous pouvez faire plusieurs expériences. Comment interprétez vous vos résultats ?</div>\n",
    "\n",
    "> **Note :** *Il peut arriver (lorsque vous lancez deux fois la même cellule avec un `input` sans rien entrer dans le champ proposé par exemple) que Jupyter refuse d'exécuter de nouvelles commandes. Ce problème est lié à l'architecture de Jupyter et peut être résolu en redémarrant le noyau d'exécution. Dans le menu en haut de page allez dans *Kernel* puis *Restart* ou *Restart and run all*. Vous pouvez savoir quand Jupyter est en train de calculer en observant le cercle à côté de \"Python 3\" en haut à gauche: si le cercle est blanc, Jupyter attend une commande, s'il est noir, un calcul est en cours.*"
   ]
  },
  {
   "cell_type": "markdown",
   "metadata": {},
   "source": [
    "---\n",
    "\n",
    "### Conversion de types\n",
    "\n",
    "Nous avons vu précédemment différents types d'objets sous Python : \n",
    "\n",
    "* Les entiers : int \n",
    "* Les réels : float\n",
    "* Les complexes : complex\n",
    "* Les chaînes de caractères : string\n",
    "\n",
    "A chacun de ces types d'objets est associé un constructeur éponyme. Par exemple :\n",
    "\n",
    "```python\n",
    "b = int(1)         # On déclare l'entier 1 associé à l'objet b, ce qui est tout à fait similaire à b = 1 !\n",
    "c = float(b)       # On déclare l'objet c qui est la conversion de l'entier b en réel\n",
    "d = complex(b)     # On déclare l'objet d qui est la conversion de l'entier b en complexe\n",
    "```\n",
    "\n",
    "><div class=\"alert alert-block alert-info\">\n",
    "Testez les lignes précédentes et regardez quelles variables Jupyter connait, et leur type :</div>"
   ]
  },
  {
   "cell_type": "code",
   "execution_count": null,
   "metadata": {},
   "outputs": [],
   "source": []
  },
  {
   "cell_type": "code",
   "execution_count": null,
   "metadata": {},
   "outputs": [],
   "source": []
  },
  {
   "cell_type": "markdown",
   "metadata": {},
   "source": [
    "Imaginez maintenant que vous souhaitez utiliser la fonction `input` de Python pour que l'utilisateur entre un nombre entier, et que ce nombre soit effectivement traité comme un nombre entier. \n",
    "\n",
    "><div class=\"alert alert-block alert-info\">Comment vous y prenez vous ? Vérifiez votre résultats à l'aide de la commande `whos`</div>\n"
   ]
  },
  {
   "cell_type": "code",
   "execution_count": null,
   "metadata": {},
   "outputs": [],
   "source": []
  },
  {
   "cell_type": "code",
   "execution_count": null,
   "metadata": {},
   "outputs": [],
   "source": []
  },
  {
   "cell_type": "markdown",
   "metadata": {},
   "source": [
    "Que se passe t'il maintenant si l'utilisateur entre : \n",
    "\n",
    "* Un nombre réel\n",
    "* Une chaine de caractères\n",
    "* Un nombre complexe\n",
    "\n",
    "><div class=\"alert alert-block alert-info\">Expérimentez afin de tirer vos conclusions. Vous pouvez utiliser les constructeurs `int()`, `float()`, et `complex()`</div>\n",
    " \n",
    "> **Note :** *Vous essayerez de comprendre les erreurs affichées par l'interpréteur Python et de trouver des solutions afin de les contourner*"
   ]
  },
  {
   "cell_type": "code",
   "execution_count": null,
   "metadata": {},
   "outputs": [],
   "source": []
  },
  {
   "cell_type": "code",
   "execution_count": null,
   "metadata": {},
   "outputs": [],
   "source": []
  },
  {
   "cell_type": "code",
   "execution_count": null,
   "metadata": {},
   "outputs": [],
   "source": []
  },
  {
   "cell_type": "code",
   "execution_count": null,
   "metadata": {},
   "outputs": [],
   "source": []
  },
  {
   "cell_type": "markdown",
   "metadata": {},
   "source": [
    "---\n",
    "\n",
    "## Les sorties \"standard\" sous Python\n",
    "\n",
    "---\n",
    "\n",
    "### La fonction print\n",
    "\n",
    "Nous avons déjà abordé le thème des sorties dans les activités précédentes. Nous allons maintenant approfondir ces notions. Sous Python, la fonction fondamentale utilisée pour les sorties est la fonction `print()`. \n",
    "\n",
    "Rappelons que deux chaînes de caractères peuvent être concaténées de la manière suivante :\n",
    "\n",
    "```python\n",
    "s1 = 'Hello'\n",
    "s2 = 'World'\n",
    "s1 + s2            # Retourne la chaîne 'HelloWorld' !\n",
    "```\n",
    "\n",
    "><div class=\"alert alert-block alert-info\">Définissez une objet `int1` auquel vous attribuerez la valeur entière que vous souhaitez. Utilisez la fonction `print` pour afficher `s1+s2` que vous aurez préalablement définis, puis `s1 + int1`. Tirez en les conclusions appropriées</div>"
   ]
  },
  {
   "cell_type": "code",
   "execution_count": null,
   "metadata": {},
   "outputs": [],
   "source": []
  },
  {
   "cell_type": "markdown",
   "metadata": {},
   "source": [
    "La fonction Python `print()` peut prendre plusieurs arguments d'entrée. Ces arguments sont séparés par une virgule tel que : \n",
    "\n",
    "```python\n",
    "print(s1, s2)\n",
    "```\n",
    "\n",
    "><div class=\"alert alert-block alert-info\"> Testez cet exemple. Quel est la différence par rapport à l'exemple précédent ?</div>"
   ]
  },
  {
   "cell_type": "code",
   "execution_count": null,
   "metadata": {},
   "outputs": [],
   "source": []
  },
  {
   "cell_type": "markdown",
   "metadata": {},
   "source": [
    "><div class=\"alert alert-block alert-info\"> Utilisez la même formulation pour afficher simultanément `s1`, `s2` et `int1`, et tirez vos conclusions !</div>"
   ]
  },
  {
   "cell_type": "code",
   "execution_count": null,
   "metadata": {},
   "outputs": [],
   "source": []
  },
  {
   "cell_type": "markdown",
   "metadata": {},
   "source": [
    "---\n",
    "\n",
    "### Le formatage\n",
    "\n",
    "Il existe une manière élégante sous Python de formater une chaîne de caractères. Il s'agit d'utiliser la méthode `format` dont hérite chaque objet `str`. Considérons l'exemple suivant :\n",
    "\n",
    "```python\n",
    "n_total = 3\n",
    "phrase = \"Il ne reste que {} m&m's\"\n",
    "phrase.format(n_total)\n",
    "```\n",
    "\n",
    "><div class=\"alert alert-block alert-info\">Executez cet exemple dans la cellule suivante :</div>\n"
   ]
  },
  {
   "cell_type": "code",
   "execution_count": null,
   "metadata": {},
   "outputs": [],
   "source": []
  },
  {
   "cell_type": "markdown",
   "metadata": {},
   "source": [
    "Vous pouvez bien entendu utiliser `b.format(a)` directement en argument d'entrée de la fonction `print()`\n",
    "\n",
    "><div class=\"alert alert-block alert-info\"> Expérimentez ceci et tirez les conclusions appropriées :</div>"
   ]
  },
  {
   "cell_type": "code",
   "execution_count": null,
   "metadata": {},
   "outputs": [],
   "source": []
  },
  {
   "cell_type": "markdown",
   "metadata": {},
   "source": [
    "La méthode `format()` peut prendre plusieurs arguments d'entrée (séparés par des virgules) si nécessaire. \n",
    "Admettons que nous avons deux nouveaux objets :\n",
    "\n",
    "* n_rouges : le nombre de m&m's rouges\n",
    "* n_jaunes : le nombre de m&m's jaunes\n",
    "\n",
    "><div class=\"alert alert-block alert-info\"> Définissez les deux variables sus citées, et utilisez la fonction `print()` et la méthode `format()` afin d'afficher une phrase du type : *Il ne reste plus que X m&m's dont Y rouges et Z jaunes*</div>\n"
   ]
  },
  {
   "cell_type": "code",
   "execution_count": null,
   "metadata": {},
   "outputs": [],
   "source": []
  },
  {
   "cell_type": "markdown",
   "metadata": {},
   "source": [
    "Les inconnues définies par les accolades {} peuvent elles même être formatées. Imaginons que l'objet `pi` vaut 3.1415926 et l'objet `e` vaut 2.7182818 :\n",
    "\n",
    "```python\n",
    "pi = 3.1415926\n",
    "e = 2.7182818\n",
    "texte = \"La constante Pi vaut {0:.3f}, et la constante de Neper {1:.4f}\"\n",
    "print(texte.format(pi, e))\n",
    "```\n",
    "\n",
    "Dans les accolades, le premier indice est optionnel. Il représente l'indice de l'inconnue. Sous Python l'indexation commence à 0. Ici nous avons deux inconnues :\n",
    "\n",
    "* la première est celle d'indice 0\n",
    "* la seconde est celle d'indice 1\n",
    "\n",
    "Cet indice est optionnel. Il est tout à fait possible d'écrire :\n",
    "\n",
    "```python\n",
    "pi = 3.1415926\n",
    "e = 2.7182818\n",
    "texte = \"La constante Pi vaut {:.3f}, et la constante de Neper {:.4f}\"\n",
    "print(texte.format(pi, e))\n",
    "```\n",
    "\n",
    "Vous pouvez également, si vous le voulez, donner un nom aux différents éléments plutôt que d'utiliser des indices. La syntaxe suivante est alors utilisée :\n",
    "\n",
    "```python\n",
    "pi = 3.1415926\n",
    "e = 2.7182818\n",
    "texte = \"La constante Pi vaut {pi:.3f}, et la constante de Neper {e:.4f}\"\n",
    "print(texte.format(pi=pi, e=e))\n",
    "```\n",
    "\n",
    "Le caractère `:` symbolise la séparation entre l'indice (ou le nom) de chaque inconnue, et le format d'affichage de celle-ci. L'expression `.3f` signifie que nous attendons un nombre réel (float), et que nous allons afficher 3 chiffres après la virgule.\n",
    "\n",
    "><div class=\"alert alert-block alert-info\"> Testez ces différentes formulations. Expérimentez différents formatages : </div>"
   ]
  },
  {
   "cell_type": "code",
   "execution_count": null,
   "metadata": {
    "collapsed": true
   },
   "outputs": [],
   "source": []
  },
  {
   "cell_type": "code",
   "execution_count": null,
   "metadata": {},
   "outputs": [],
   "source": []
  },
  {
   "cell_type": "code",
   "execution_count": null,
   "metadata": {},
   "outputs": [],
   "source": []
  },
  {
   "cell_type": "markdown",
   "metadata": {},
   "source": [
    "---\n",
    "\n",
    "# Les Entrées/Sorties : le cas des E/S fichiers"
   ]
  },
  {
   "cell_type": "markdown",
   "metadata": {},
   "source": [
    "Avant de passer à la suite, nous allons tout d'abord revenir à un environnement de travail vierge. Pour ce faire, utilisez la commande Jupyter `reset`. \n",
    "\n",
    "><div class=\"alert alert-block alert-info\">\n",
    "Tapez puis exécutez `reset -f` dans la cellule suivante :</div>"
   ]
  },
  {
   "cell_type": "code",
   "execution_count": null,
   "metadata": {
    "collapsed": true
   },
   "outputs": [],
   "source": []
  },
  {
   "cell_type": "markdown",
   "metadata": {
    "collapsed": true
   },
   "source": [
    "\n",
    "---\n",
    "\n",
    "## Les entrées sous Python : Le cas des fichiers\n",
    "\n",
    "Les *entrées* sous Python ne se font pas qu'à l'écran, avec la fonction `input()`. \n",
    "Il est tout à fait possible de lire des informations contenues dans un fichier ! Pour ce faire, il existe différentes méthodes. Citons en deux en particulier : \n",
    "\n",
    "* La méthode de base de Python utilisant la commande `open`, similaire à celle utilisée dans le langage `c` \n",
    "* Les méthodes fournies par le module `numpy` pour la lecture de données scientifiques telles que les vecteurs/matrices de type `ndarray` avec les commandes `load` et `loadtxt` entre autres\n",
    "\n",
    "---\n",
    "\n",
    "### La fonction open\n",
    "\n",
    "Pour lire le contenu d'un fichier, il faut tout d'abord ouvrir ce fichier. On utilise pour cela la fonction de base `open`. Cette fonction prend en paramètres :\n",
    "\n",
    "* le nom du fichier à ouvrir (ou son chemin dans votre arborescence),\n",
    "* le mode d'ouverture du fichier.\n",
    "\n",
    "Le mode d'ouverture de fichier est donné sous la forme d'une chaîne de caractères. Les principaux modes  sont les suivants :\n",
    "\n",
    "* `'r'` : ouverture en mode \"read\" (lecture).\n",
    "* `'w'` : ouverture en mode \"write\" (écriture)\n",
    "\n",
    "    * Si le fichier existe déjà, son contenu sera écrasé\n",
    "    * Si le fichier n'existe pas, il sera créé.\n",
    "    \n",
    "* `'a'` : ouverture en mode append (ajout).\n",
    "\n",
    "    * Si le fichier existe déjà, on écrira alors à la fin du fichier sans écraser son ancien contenu\n",
    "    * Si le fichier n'existe pas, il sera créé.\n",
    "\n",
    ">**Note :** *Le signe 'b' peut également être ajouté pour ouvrir un fichier en mode binaire.*\n",
    "\n",
    "Nous allons dans un premier temps essayer de lire le fichier **S03-open.txt** fourni avec ce TP. Nous allons donc utiliser le mode lecture `'r'` comme suit :\n",
    "\n",
    "```python\n",
    "MyFile = open('S03-open.txt', 'r')\n",
    "```\n",
    "\n",
    "><div class=\"alert alert-block alert-info\">Allez-y, ouvrez tout d'abord ce fichier dans un éditeur de texte (du genre notepad), puis ouvrez ce fichier sous Python à l'aide de la fonction `open` et vérifiez le type de l'objet MyFile :</div>"
   ]
  },
  {
   "cell_type": "code",
   "execution_count": null,
   "metadata": {},
   "outputs": [],
   "source": []
  },
  {
   "cell_type": "markdown",
   "metadata": {},
   "source": [
    "Vous voyez que le type de cet objet est bien particulier. Les objets de ce type héritent de certaines méthodes très utiles. Citons en particulier les méthodes : \n",
    "\n",
    "* `read()` : qui permet de lire l'intégralité du fichier et de l'envoyer dans une chaîne de caractères\n",
    "* `readline()` : qui permet de lire le fichier ligne par ligne et de l'envoyer dans une chaîne de caractères\n",
    "* `readlines()` : qui permet de lire l'intégralité du fichier et d'envoyer son contenu dans une liste de chaînes de caractères (chaque élément de cette liste correspond alors à chacune des lignes du fichier)\n",
    "* `close()` : qui permet de fermer le fichier\n",
    "\n",
    "><div class=\"alert alert-block alert-info\">Utilisez dans un premier temps la méthode `read()` pour lire le contenu de votre fichier :</div>"
   ]
  },
  {
   "cell_type": "code",
   "execution_count": null,
   "metadata": {},
   "outputs": [],
   "source": []
  },
  {
   "cell_type": "markdown",
   "metadata": {},
   "source": [
    "><div class=\"alert alert-block alert-info\"> Comparez le résultat que vous venez d'obtenir au contenu réel du fichier. Que représentent selon vous les chaînes `\\n` et `\\t` ?</div>"
   ]
  },
  {
   "cell_type": "markdown",
   "metadata": {},
   "source": [
    "><div class=\"alert alert-block alert-info\"> Fermez maintenant le fichier à l'aide de la méthode `close()`, puis ouvrez le à nouveau et répétez la méthode `readline()` jusqu'à avoir lu l'intégralité du fichier :</div>"
   ]
  },
  {
   "cell_type": "code",
   "execution_count": null,
   "metadata": {},
   "outputs": [],
   "source": []
  },
  {
   "cell_type": "code",
   "execution_count": null,
   "metadata": {},
   "outputs": [],
   "source": []
  },
  {
   "cell_type": "code",
   "execution_count": null,
   "metadata": {},
   "outputs": [],
   "source": []
  },
  {
   "cell_type": "code",
   "execution_count": null,
   "metadata": {},
   "outputs": [],
   "source": []
  },
  {
   "cell_type": "markdown",
   "metadata": {},
   "source": [
    "><div class=\"alert alert-block alert-info\"> Fermez le fichier dès lors que vous avez lu son intégralité, puis ouvrez à nouveau le fichier pour tester la méthode `readlines()` :</div>"
   ]
  },
  {
   "cell_type": "code",
   "execution_count": null,
   "metadata": {},
   "outputs": [],
   "source": []
  },
  {
   "cell_type": "markdown",
   "metadata": {},
   "source": [
    "Vous avez ici affaire, comme nous l'avons énoncé plus haut, à une liste de chaînes de caractères.\n",
    "\n",
    "><div class=\"alert alert-block alert-info\"> Exécutez à nouveau la méthode `readlines()`. Que constatez vous ? Concluez.</div>"
   ]
  },
  {
   "cell_type": "code",
   "execution_count": null,
   "metadata": {},
   "outputs": [],
   "source": []
  },
  {
   "cell_type": "markdown",
   "metadata": {},
   "source": [
    "><div class=\"alert alert-block alert-info\"> Fermez maintenant le fichier, puis ouvrez le à nouveau. Envoyez cette fois le contenu de la méthode `readlines()` dans un objet dont vous choisirez le nom :</div>"
   ]
  },
  {
   "cell_type": "code",
   "execution_count": null,
   "metadata": {
    "collapsed": true
   },
   "outputs": [],
   "source": []
  },
  {
   "cell_type": "markdown",
   "metadata": {},
   "source": [
    "><div class=\"alert alert-block alert-info\"> Maintenant que le contenu de votre fichier lu par la méthode `readlines()` est bien stocké dans un objet que vous avez défini, comment pouvez vous procéder afin d'afficher uniquement la seconde ligne ? </div>"
   ]
  },
  {
   "cell_type": "code",
   "execution_count": null,
   "metadata": {},
   "outputs": [],
   "source": []
  },
  {
   "cell_type": "markdown",
   "metadata": {},
   "source": [
    "<div class=\"alert alert-block alert-danger\"> Nous en avons maintenant fini  avec ce fichier. N'oubliez surtout pas de le fermer avant de passer à la suite du TP ! </div>"
   ]
  },
  {
   "cell_type": "code",
   "execution_count": null,
   "metadata": {
    "collapsed": true
   },
   "outputs": [],
   "source": []
  },
  {
   "cell_type": "markdown",
   "metadata": {
    "collapsed": true
   },
   "source": [
    "---\n",
    "\n",
    "### Les fonctions load et loadtxt du module numpy\n",
    "\n",
    "Comme vous l'avez vu précédemment, la fonction `open` permet d'ouvrir un fichier et de lire son contenu. Lorsqu'il s'agit de fichiers de données scientifiques, nous utiliserons plutôt les fonctions fournies par le module `numpy` qui sont plus simples à utiliser et plus adaptées à la lecture des objets `ndarray` !\n",
    "\n",
    "Alors qu'en utilisant la méthode `open`, il est indispensable d'ouvrir, de lire, puis de fermer votre fichier, les méthodes proposées par `numpy` regroupent ces trois étapes en une seule fonction :\n",
    "\n",
    "* Pour la lecture d'un fichier texte, nous utiliserons la méthode `loadtxt()`\n",
    "* Pour la lecture d'un fichier binaire, nous utiliserons la méthode `load()`\n",
    "\n",
    "Ces deux méthodes prennent en argument d'entrée le nom du fichier que vous souhaitez ouvrir (ou le chemin de ce fichier dans votre arborescence), rien de plus ! Par exemple, pour ouvrir les fichiers texte **S03_x1.txt** et **S03_y1.txt** fournis avec ce TP, et mettre leur contenu dans les objets `x1` et `y1`, il suffit simplement d'exécuter les commandes :\n",
    "\n",
    "```python\n",
    "x1 = np.loadtxt('S03_x1.txt')\n",
    "y1 = np.loadtxt('S03_y1.txt')\n",
    "```\n",
    "\n",
    "><div class=\"alert alert-block alert-info\"> Essayez à votre tour d'envoyer le contenu de ces deux fichiers dans les objets `x1` et `y1`, puis tracez `y1` en fonction de `x1` sur une figure : </div>\n",
    "\n",
    ">**Note :** *N'oubliez pas d'importer `numpy` et le sous module `pyplot` de `matplotlib` !*"
   ]
  },
  {
   "cell_type": "code",
   "execution_count": null,
   "metadata": {
    "collapsed": true
   },
   "outputs": [],
   "source": []
  },
  {
   "cell_type": "code",
   "execution_count": null,
   "metadata": {},
   "outputs": [],
   "source": []
  },
  {
   "cell_type": "markdown",
   "metadata": {},
   "source": [
    "Simple ! Ni besoin d'ouverture, ni besoin de fermeture !\n",
    "\n",
    "><div class=\"alert alert-block alert-info\"> Essayez maintenant d'envoyer le contenu des fichiers binaires **S03_x2.npy** et **S03_y2.npy** dans les objets `x2` et `y2`, puis tracez `y2` en fonction de `x2` sur une figure : </div>"
   ]
  },
  {
   "cell_type": "code",
   "execution_count": null,
   "metadata": {},
   "outputs": [],
   "source": []
  },
  {
   "cell_type": "markdown",
   "metadata": {},
   "source": [
    "Vous savez maitenant importer facilement des données scientifiques à l'aide des fonctions `load` et `loadtxt` du module `numpy` !"
   ]
  },
  {
   "cell_type": "markdown",
   "metadata": {},
   "source": [
    "---\n",
    "\n",
    "## Les sorties sous Python : Le cas des fichiers\n",
    "\n",
    "Tout comme pour le cas des *entrées*, les *sorties* sous Python ne se font pas qu'à l'écran, avec la fonction `print()`. Il est bien sûr possible d'écrire des données dans un fichier. Pour ce faire, il existe différentes méthodes. Citons en deux en particulier : \n",
    "\n",
    "* La méthode de base de Python utilisant encore une fois la commande `open` mais cette fois avec les modes d'ouverture `'w'` ou `'a'`\n",
    "* Les méthodes fournies par le module numpy pour la lecture simplifiée de données scientifiques de type `ndarray` avec les commandes `save` et `savetxt` entre autres\n",
    "\n",
    "---\n",
    "\n",
    "### Retour sur la fonction open\n",
    "\n",
    "Nous avons vu précédemment que l'un des arguments d'entrée de la fonction `open()` est le mode d'ouverture du fichier. L'un des modes proposés par cette fonction est le mode `w` pour *write* (écriture en anglais). \n",
    "\n",
    "><div class=\"alert alert-block alert-info\"> Ouvrez un fichier en écriture que vous nommerez **S03-test.txt** </div>"
   ]
  },
  {
   "cell_type": "code",
   "execution_count": null,
   "metadata": {
    "collapsed": true
   },
   "outputs": [],
   "source": []
  },
  {
   "cell_type": "markdown",
   "metadata": {},
   "source": [
    "><div class=\"alert alert-block alert-info\"> Maintenant que votre fichier est prêt pour l'écriture, utilisez la méthode `write()` avec comme argument d'entrée la chaîne de caractères que vous souhaitez écrire dans votre fichier. N'oubliez pas de fermez votre fichier avec la méthode `close()` puis d'aller vérifier que tout a fonctionné comme il faut ! </div>\n",
    "\n",
    ">**Note :** *Il existe bien sûr d'autres méthodes que la méthode `write` pour l'écriture dans un fichier... Vous les apprendrez par vous même au moment opportun ! Si un jour vous en avez la nécessité !*"
   ]
  },
  {
   "cell_type": "code",
   "execution_count": null,
   "metadata": {},
   "outputs": [],
   "source": []
  },
  {
   "cell_type": "markdown",
   "metadata": {},
   "source": [
    "><div class=\"alert alert-block alert-info\"> Ouvrez à nouveau ce fichier en écriture puis écrivez y une nouvelle chaîne de caractères. N'oubliez pas de le fermez puis allez vérifier que tout a fonctionné comme il faut ! Concluez ! </div>"
   ]
  },
  {
   "cell_type": "code",
   "execution_count": null,
   "metadata": {
    "collapsed": true
   },
   "outputs": [],
   "source": []
  },
  {
   "cell_type": "markdown",
   "metadata": {},
   "source": [
    "><div class=\"alert alert-block alert-info\"> Répétez les commandes précédentes, mais cette fois en ouvrant votre fichier en mode \"a\". N'oubliez pas de fermez votre fichier puis allez vérifier que tout a fonctionné comme il faut ! Concluez !</div>"
   ]
  },
  {
   "cell_type": "code",
   "execution_count": null,
   "metadata": {
    "collapsed": true
   },
   "outputs": [],
   "source": []
  },
  {
   "cell_type": "markdown",
   "metadata": {},
   "source": [
    "---\n",
    "\n",
    "### Les fonctions save et savetxt du module numpy\n",
    "\n",
    "Le module `numpy` fournit entre autres deux fonctions très utiles pour la sauvegarde de données scientifiques. Il s'agit des fonctions `save` pour écrire des fichiers binaires et `savetxt` pour écrire des fichiers textes.\n",
    "\n",
    "\n",
    "><div class=\"alert alert-block alert-info\">Commencez tout d'abord par créer un vecteur que vous nommerez `x3` contenant 100 valeurs allant de 0 à 4$\\pi$, puis déclarez une variable `y3` qui contiendra le sinus de chacune des valeurs de `x3`. Vous tracerez alors `y3` en fonction de `x3` sur une figure. </div>"
   ]
  },
  {
   "cell_type": "code",
   "execution_count": null,
   "metadata": {},
   "outputs": [],
   "source": []
  },
  {
   "cell_type": "markdown",
   "metadata": {},
   "source": [
    "><div class=\"alert alert-block alert-info\">Utilisez maintenant la fonction `savetxt()` du module `numpy` afin d'écrire les valeurs de ̀`x3` et de `y3` dans deux fichiers textes séparés que vous nommerez de façon pertinente.</div>"
   ]
  },
  {
   "cell_type": "code",
   "execution_count": null,
   "metadata": {
    "collapsed": true
   },
   "outputs": [],
   "source": []
  },
  {
   "cell_type": "markdown",
   "metadata": {},
   "source": [
    "><div class=\"alert alert-block alert-info\"> Comme vu dans la partie précédente, vous pouvez maintenant lire ces deux fichiers textes à l'aide de la fonction `loadtxt` et affecter leur contenu à deux variables que vous nommerez `x3b` et `y3b`. Tracez `y3b` en fonction de `x3b` sur une figure.</div>"
   ]
  },
  {
   "cell_type": "code",
   "execution_count": null,
   "metadata": {},
   "outputs": [],
   "source": []
  },
  {
   "cell_type": "markdown",
   "metadata": {},
   "source": [
    "><div class=\"alert alert-block alert-info\">Afin de vous assurer de la validité de vos résultats, comparez les objets `x3` et `x3b` ainsi que les objets `y3` et `y3b` deux à deux à l'aide de l'opérateur de comparaison `==` </div>\n",
    "\n",
    ">**Note :** *Regardez l'aide de la fonction `alltrue` du module `numpy` qui pourrait vous aider à réaliser cette comparaison.*"
   ]
  },
  {
   "cell_type": "code",
   "execution_count": null,
   "metadata": {},
   "outputs": [],
   "source": []
  },
  {
   "cell_type": "code",
   "execution_count": null,
   "metadata": {},
   "outputs": [],
   "source": []
  },
  {
   "cell_type": "code",
   "execution_count": null,
   "metadata": {},
   "outputs": [],
   "source": []
  },
  {
   "cell_type": "markdown",
   "metadata": {},
   "source": [
    "><div class=\"alert alert-block alert-info\">Réitérez cette dernière partie avec la fonction `save()` au lieu de la fonction `savetxt()`. Observez les différences entre les fichiers crées avec la fonction `savetxt()` et ceux crées avec la fonction `save()`. Concluez !</div>"
   ]
  },
  {
   "cell_type": "code",
   "execution_count": null,
   "metadata": {
    "collapsed": true
   },
   "outputs": [],
   "source": []
  },
  {
   "cell_type": "markdown",
   "metadata": {},
   "source": [
    "---\n",
    "\n",
    "# Les éléments classiques d'algorithmique\n",
    "\n",
    "Dans cette section nous allons voir les éléments classiques d'algorithmique, à savoir : \n",
    "\n",
    "* Les tests\n",
    "* Les structures conditionnelles `if`\n",
    "* Les boucles `for`\n",
    "* Les fonctions\n",
    "\n",
    "\n",
    "Avant de commencer, nous allons tout d'abord revenir à un environnement de travail vierge. Pour ce faire, utilisez la commande Jupyter `reset`. \n",
    "\n",
    "><div class=\"alert alert-block alert-info\">\n",
    "Tapez puis exécutez `reset -f` dans la cellule suivante :</div>"
   ]
  },
  {
   "cell_type": "code",
   "execution_count": null,
   "metadata": {
    "collapsed": true
   },
   "outputs": [],
   "source": []
  },
  {
   "cell_type": "markdown",
   "metadata": {},
   "source": [
    "---\n",
    "\n",
    "## Rappel sur les opérateurs de comparaison et définition du type booléen\n",
    "\n",
    "Comme nous l'avons vu dans le cadre du premier TP, il existe des opérateurs de comparaison sous Python. Ces opérateurs permettent notamment d'exécuter des tests. Pour rappel, ces opérateurs sont : \n",
    "\n",
    "* L'égalité, avec l'opérateur `==`\n",
    "* La différence, avec l'opérateur `!=`\n",
    "* L'infériorité ou la supériorité stricte, avec les opérateurs `<` et `>`\n",
    "* L'infériorité ou la supériorité simple, avec les opérateurs `<=` et `>=`\n",
    "\n",
    "Lorsqu'on exécute un test sous Python, le résultat de ce test sera toujours un objet de type booléen (`bool`). Vous avez déjà aperçu ces booléens précédemment. Ce sont des objets un peu particulier. Il n'existe que deux véritables booléens : \n",
    "\n",
    "* `True` : Vrai\n",
    "* `False` : Faux\n",
    "\n",
    "><div class=\"alert alert-block alert-info\">Commençons par faire quelques tests. Déclarez deux objets. Le premier que vous nommerez o1 sera l'entier 0. Le second que vous nommerez o2 sera l'entier 1</div>"
   ]
  },
  {
   "cell_type": "code",
   "execution_count": null,
   "metadata": {
    "collapsed": true
   },
   "outputs": [],
   "source": []
  },
  {
   "cell_type": "markdown",
   "metadata": {},
   "source": [
    "><div class=\"alert alert-block alert-info\">Réalisez maintenant les tests comparatifs suivants et vérifier que tout semble cohérent :</div>\n",
    "\n",
    "* o1 == o2\n",
    "* o1 != o2\n",
    "* o1 < o2\n",
    "* o1 > o2\n",
    "* o1 == True\n",
    "* o1 == False\n",
    "* o2 == True\n",
    "* o2 == False"
   ]
  },
  {
   "cell_type": "code",
   "execution_count": null,
   "metadata": {
    "collapsed": true
   },
   "outputs": [],
   "source": []
  },
  {
   "cell_type": "code",
   "execution_count": null,
   "metadata": {
    "collapsed": true
   },
   "outputs": [],
   "source": []
  },
  {
   "cell_type": "markdown",
   "metadata": {},
   "source": [
    "---\n",
    "\n",
    "## Les autres types d'opérateurs\n",
    "\n",
    "Afin d'exécuter des tests plus complexes, Python fournit également les **opérateurs logiques** classiquement utilisés en programmation, à savoir : \n",
    "\n",
    "* L'opérateur logique **ET** : `and`\n",
    "* L'opérateur logique **OU** : `or`\n",
    "* L'opérateur logique **INVERSE** : `not`\n",
    "\n",
    "A ces trois opérateurs classiques, s'ajoutent également : \n",
    "\n",
    "* L'opérateur d'**identité** : `is`\n",
    "* L'opérateur d'**appartenance** : `in`\n",
    "\n",
    "qui peuvent tous deux être inversés grâce à l'opérateur logique `not`, ce qui donne :\n",
    "\n",
    "* L'opérateur d'**identité inversé** : `is not`\n",
    "* L'opérateur d'**appartenance inversé** (exclusion) : `not in`\n",
    "\n",
    "Vous remarquerez que l'opérateur `not` se place avant `in` mais après `is`. Ces formulations syntaxiques différentes ont simplement été adoptées afin de rester au plus proche de l'anglais parlé.\n",
    "\n",
    "\n",
    "---\n",
    "\n",
    "## Focus sur l'opérateur identité\n",
    "\n",
    "><div class=\"alert alert-block alert-info\">Il est maintenant temps de faire quelques tests ! Commençons par l'opérateur identité. Déclarez deux objets `a` et `b` faisant respectivement référence à l'entier 1 et au réel 1.0 puis testez :</div>\n",
    "\n",
    "* l'**égalité** : *a égal b*\n",
    "* l'**identité** : *a est b*\n",
    "* l'**identité inversée** : *a n'est pas b*"
   ]
  },
  {
   "cell_type": "code",
   "execution_count": null,
   "metadata": {
    "collapsed": true
   },
   "outputs": [],
   "source": []
  },
  {
   "cell_type": "code",
   "execution_count": null,
   "metadata": {
    "collapsed": true
   },
   "outputs": [],
   "source": []
  },
  {
   "cell_type": "code",
   "execution_count": null,
   "metadata": {
    "collapsed": true
   },
   "outputs": [],
   "source": []
  },
  {
   "cell_type": "markdown",
   "metadata": {},
   "source": [
    "><div class=\"alert alert-block alert-info\">Refaites les mêmes tests pour les objets `c` et `d` faisant tous deux référence à l'entier 1 :</div>"
   ]
  },
  {
   "cell_type": "code",
   "execution_count": null,
   "metadata": {
    "collapsed": true
   },
   "outputs": [],
   "source": []
  },
  {
   "cell_type": "code",
   "execution_count": null,
   "metadata": {
    "collapsed": true
   },
   "outputs": [],
   "source": []
  },
  {
   "cell_type": "markdown",
   "metadata": {},
   "source": [
    "Les résultats que vous venez d'obtenir doivent illustrer la différence entre l'identité et l'égalité. Le test d'égalité vérifie que les deux objets ont la même valeur. Le test d'identité vérifie que les deux objets ont la même identité. Sous Python, ces deux caractéristiques d'un objet sont bien différentes. Chaque objet est caractérisé par trois grandes caractéristiques :\n",
    "\n",
    "* Son **identité** qui est quelque chose comme son adresse dans la mémoire de l'ordinateur, accessible grâce à la fonction `id()`\n",
    "* Son **type** qui permet de déterminer les \"opérations\" que l'objet supporte, accessible notamment grâce à la fonction `type()`\n",
    "* Sa **valeur** qui est finalement son contenu, accessible notamment grâce à la fonction `print()`\n",
    "\n",
    "><div class=\"alert alert-block alert-info\">Regardez l'identité des 4 objets que vous avez définis précédemment : `a`, `b`, `c`, et `d` et concluez.</div>"
   ]
  },
  {
   "cell_type": "code",
   "execution_count": null,
   "metadata": {
    "collapsed": true
   },
   "outputs": [],
   "source": []
  },
  {
   "cell_type": "code",
   "execution_count": null,
   "metadata": {
    "collapsed": true
   },
   "outputs": [],
   "source": []
  },
  {
   "cell_type": "markdown",
   "metadata": {},
   "source": [
    "---\n",
    "\n",
    "## Focus sur l'opérateur d'appartenance\n",
    "\n",
    "><div class=\"alert alert-block alert-info\">Nous allons maintenant étudier l'opérateur appartenance `in`. Commencez par déclarer une liste que vous nommerez `lst` contenant l'entier 1, le réel 2.0 et la chaîne de caractères 'Python'. Testez ensuite si l'objet `a` défini précédemment est dans votre liste `lst`. Faîtes de même pour l'objet `b`, pour la chaîne de caractères `'Python'` et pour la chaîne de caractères `'ytho'`. Faîtes vos tests avec l'opérateur `in`, mais également avec l'opérateur inverse `not in`.</div>"
   ]
  },
  {
   "cell_type": "code",
   "execution_count": null,
   "metadata": {
    "collapsed": true
   },
   "outputs": [],
   "source": []
  },
  {
   "cell_type": "code",
   "execution_count": null,
   "metadata": {
    "collapsed": true
   },
   "outputs": [],
   "source": []
  },
  {
   "cell_type": "code",
   "execution_count": null,
   "metadata": {
    "collapsed": true
   },
   "outputs": [],
   "source": []
  },
  {
   "cell_type": "code",
   "execution_count": null,
   "metadata": {
    "collapsed": true
   },
   "outputs": [],
   "source": []
  },
  {
   "cell_type": "markdown",
   "metadata": {},
   "source": [
    "Vous aurez ici remarqué que l'opérateur d'appartenance ne teste pas l'identité mais bien la valeur. Les objets `a` et `b` sont deux objets différents (de types différents, donc d'identités différentes) ayant la même valeur. La valeur 1, qui est égale à la valeur 1.0 appartient bien à la liste `lst`. L'opérateur d'appartenance `in` teste si telle ou telle valeur est bien présente dans la liste.\n",
    "La même remarque s'applique aux tests concernant les chaînes de caractères. La chaîne `'Python'` est bien présente dans la liste. Ce n'est pas le cas de la chaîne `'ython'`.\n",
    "\n",
    "><div class=\"alert alert-block alert-info\">A l'aide de l'indexation, testez si la chaîne de caractères `'ython'` est présente dans le dernier élément de la liste `lst`.</div>"
   ]
  },
  {
   "cell_type": "code",
   "execution_count": null,
   "metadata": {
    "collapsed": true
   },
   "outputs": [],
   "source": []
  },
  {
   "cell_type": "markdown",
   "metadata": {},
   "source": [
    "L'objet `lst[-1]` est la chaîne de caractères `'Python'`. Nous avons vu précédemment que les chaînes de caractères sont des objets composés de plusieurs éléments (chaque caractère est un élément). Ainsi on teste ici si `'ytho'` est présent dans '`Python`', ce qui est effectivement le cas !\n",
    "\n",
    "><div class=\"alert alert-block alert-info\">A l'aide de l'indexation, testez si le premier élément de la liste `lst` a la même identité que l'objet `a` défini précédemment. Quand est il de `b` ? Concluez.</div>"
   ]
  },
  {
   "cell_type": "code",
   "execution_count": null,
   "metadata": {
    "collapsed": true
   },
   "outputs": [],
   "source": []
  },
  {
   "cell_type": "code",
   "execution_count": null,
   "metadata": {
    "collapsed": true
   },
   "outputs": [],
   "source": []
  },
  {
   "cell_type": "markdown",
   "metadata": {},
   "source": [
    "---\n",
    "\n",
    "## Focus sur les opérateurs logiques\n",
    "\n",
    "><div class=\"alert alert-block alert-info\"> Nous allons maintenant nous intéresser aux opérateurs logiques. Faîtes les tests suivant et concluez : </div>\n",
    "\n",
    "* o1 *égal à* o2 **ou** a *égal à* b\n",
    "* o1 *égal à* o2 **et** a *égal à* b\n",
    "* o1 *égal à* o2 **ou** c *égal à* d\n",
    "* o1 *différent de* o2 **ou** c *différent de* d"
   ]
  },
  {
   "cell_type": "code",
   "execution_count": null,
   "metadata": {
    "collapsed": true
   },
   "outputs": [],
   "source": []
  },
  {
   "cell_type": "code",
   "execution_count": null,
   "metadata": {
    "collapsed": true
   },
   "outputs": [],
   "source": []
  },
  {
   "cell_type": "code",
   "execution_count": null,
   "metadata": {
    "collapsed": true
   },
   "outputs": [],
   "source": []
  },
  {
   "cell_type": "code",
   "execution_count": null,
   "metadata": {
    "collapsed": true
   },
   "outputs": [],
   "source": []
  },
  {
   "cell_type": "markdown",
   "metadata": {},
   "source": [
    "---\n",
    "\n",
    "## Note sur la priorité des différents types d'opérateurs\n",
    "\n",
    "Les opérations s'effectuent toujours de gauche à droite sous Python. Tout comme pour les mathématiques, l'opérateur ayant la plus haute priorité est l'opérateur arithmétique **puissance** (\\*\\*). Viennent ensuite tous les opérateurs arithmétiques **multiplication** et **division** (\\*, @, /, //, %) qui ont tous la même priorité. On trouve ensuite tous les opérateurs **comparaison** (<, <=, >, >=, !=, ==), **identité** (is, is not) et **appartenance** (in, not in) qui ont tous la même priorité. Les opérateurs **logiques** (not, and, or) sont les opérateurs ayant la priorité la plus basse. La subtilité est que ces opérateurs logiques ont eux même **différentes priorités**. La liste suivante classe les différents opérateurs de la priorité la plus basse  à la priorité la plus haute :\n",
    "\n",
    "* or \t\n",
    "* and\n",
    "* not\n",
    "* in, not in, is, is not, <, <=, >, >=, !=, ==\n",
    "* +, -\n",
    "* \\*, @, /, //, %\n",
    "* \\*\\* \t\n",
    "\n",
    "Prenons l'exemple :\n",
    "\n",
    "```python\n",
    "a is c or o1 != o2 and a == b\n",
    "```\n",
    "\n",
    "Ce test est interprété comme :\n",
    "```python\n",
    "True or (True and False) ce qui donne True !\n",
    "```\n",
    "\n",
    "En effet, si l'on se réfère à la liste énoncé ci-dessus, les **comparaisons** sont réalisées en priorité par rapport aux opérations logiques. Python teste donc tout d'abord les opérations :\n",
    "\n",
    "```python\n",
    "o1 != o2 qui donne True\n",
    "a == b qui donne False\n",
    "a is c qui donne True\n",
    "```\n",
    "\n",
    "Python teste ensuite l'**opération logique** `and` : \n",
    "\n",
    "```python\n",
    "o1 != o2 and a == b qui donne True and False qui donne False\n",
    "```\n",
    "\n",
    "Finalement, l'**opération logique** `or` donne \n",
    "\n",
    "```python\n",
    "False or True qui donne `True`\n",
    "```\n",
    "\n",
    "> **Note :** Les opérations logiques respectent la logique suivante : \n",
    "\n",
    "```python\n",
    "True and True == True\n",
    "True and False == False\n",
    "False and False == False\n",
    "\n",
    "True or True == True\n",
    "True or False == True\n",
    "False or False == False\n",
    "```\n",
    "\n",
    "><div class=\"alert alert-block alert-info\"> Pourriez vous dire avant de les tester sous Jupyter, quels résultats donneront les 3 opérations suivantes :</div>\n",
    "\n",
    "```python\n",
    "-> (a is b or o1 != o2) and a == b\n",
    "-> a not in lst or a*c is d and a+c in lst\n",
    "-> a+c in lst and (a+b == lst[1] or a-b in lst)\n",
    "```"
   ]
  },
  {
   "cell_type": "code",
   "execution_count": null,
   "metadata": {
    "collapsed": true
   },
   "outputs": [],
   "source": []
  },
  {
   "cell_type": "code",
   "execution_count": null,
   "metadata": {
    "collapsed": true
   },
   "outputs": [],
   "source": []
  },
  {
   "cell_type": "code",
   "execution_count": null,
   "metadata": {
    "collapsed": true
   },
   "outputs": [],
   "source": []
  },
  {
   "cell_type": "markdown",
   "metadata": {},
   "source": [
    "---\n",
    "\n",
    "## Les structures conditionnelles *if*\n",
    "\n",
    "En programmation, les structures conditionnelles sont très largement utilisées. Selon G. Swinnen (extrait de son livre [\"Apprendre à programmer avec Python 3\"](http://inforef.be/swi/download/apprendre_python3_5.pdf)), ces structures *\"permettent d'aiguiller le déroulement du programme dans différentes directions, en fonction des circonstances rencontrées\"*.\n",
    "\n",
    "La syntaxe classique de la structure conditionnelle `if` es ta suivante : \n",
    "\n",
    "```python\n",
    "if condition1:       # Si condition1 est vraie :\n",
    "    ...\n",
    "    instruction1     # Exécute ces instructions indentées\n",
    "    ...\n",
    "elif condition2:     # sinon, si condition2 est vraie :\n",
    "    ...\n",
    "    instruction2     # Exécute ces instructions indentées\n",
    "    ...\n",
    "else:                # sinon, en dernier recours : \n",
    "    ...\n",
    "    instruction3     # Exécute ces instructions indentées\n",
    "    ...\n",
    "```\n",
    "\n",
    "La structure conditionnelle `if` permet d'exécuter certaines parties d'un programme si, et seulement si, une (ou plusieurs) condition(s) est satisfaite. Sous Python, les blocs de code sont définis par leur indentation. L'indentation démarre un bloc et la désindendation le termine. Cela signifie que les espaces blancs en début de ligne sous Python sont significatifs et qu'ils doivent présenter une certaine cohérence. \n",
    "\n",
    "Les instructions sont, dans l'exemple précédent, indentés de quatre espaces. Le niveau d'indentation n'est pas imposé par l'interpréteur Python, il importe juste que le tout soit cohérent. La première ligne non indentée est alors en dehors du bloc d'instructions. \n",
    "\n",
    "><div class=\"alert alert-block alert-danger\">**Cette notion d'indentation est l'une des notions les plus importantes sous Python ! Il vous faudra impérativement la comprendre pour continuer !**</div>\n",
    "\n",
    "Outre l'indentation, le seul délimiteur utilisé dans les structures conditionnelles est le caractère \"deux points\" («:») qui termine chaque ligne commençant par l'une des instructions `if`, `elif`, ou `else`.\n",
    "\n",
    ">**Note :** *Les instructions `elif` et `else` sont optionnelles.*\n",
    "\n",
    "Une condition se matérialise généralement à l'aide des opérateurs de comparaison, d'identité ou d'appartenance que nous avons vus précédemment. Par exemple : \n",
    "\n",
    "```python\n",
    "if a == 1:\n",
    "    print('La variable a vaut 1')\n",
    "elif a > 1:\n",
    "    print('La variable a est supérieure à 1')\n",
    "elif a < 1:\n",
    "    print('La variable a est inférieure à 1')\n",
    "else:\n",
    "    print('Une autre possibilité ?')\n",
    "```\n",
    "\n",
    "Dans cette exemple si la comparaison `a == 1` renvoie le booléen `True`, toutes les instructions qui se situe à la suite avec le même niveau d'indentation sont exécutées. Il en va de même pour les conditions posées par les instructions `elif` et `else` suivantes !\n",
    "\n",
    "\n",
    "Afin de définir une condition composée, il suffit d'utiliser les opérateurs logiques que nous avons vus précédemment. \n",
    "Par exemple :\n",
    "\n",
    "```python\n",
    "if a == 1 or a > 1:\n",
    "    print('La variable a est supérieure ou égale à 1')\n",
    "elif a < 1 and a > 0:\n",
    "    print('La variable a est comprise entre 0 et 1 non inclus ')\n",
    "else: \n",
    "    print('La variable a est nulle ou négative')\n",
    "```\n",
    "\n",
    "><div class=\"alert alert-block alert-info\">Écrivez un programme demandant à l'utilisateur de saisir son age, puis affichant un message de salutation adapté (entre 0 et 12 ans, entre 12 et 18 ans, au delà de 18 ans)</div>\n"
   ]
  },
  {
   "cell_type": "code",
   "execution_count": null,
   "metadata": {},
   "outputs": [],
   "source": [
    "\n",
    "    "
   ]
  },
  {
   "cell_type": "markdown",
   "metadata": {},
   "source": [
    "---\n",
    "\n",
    "## Les boucles while\n",
    "\n",
    "En programmation, il est souvent nécessaire de répéter une séquence d'instruction un certain nombre de fois. Pour ce faire, Python propose deux structures algorithmiques :\n",
    "\n",
    "* La structure `for ... in ...` que vous verrez dans la saison prochaine\n",
    "* La structure `while condition` que nous allons étudier aujourd'hui\n",
    "\n",
    "Commençons tout de suite par un exemple :\n",
    "\n",
    "```python\n",
    "a = 0             # Initialisation de la variable a\n",
    "while a != 10:    # Tant que a différent de 10 :\n",
    "    a = a + 1     # Exécute des instructions indentées\n",
    "```\n",
    "\n",
    "La structure répétitive while est classiquement suivie d'une condition. Les instructions indentées à la suite de l'instruction `while` sont alors répétées jusqu'à ce que la condition soit vérifiée. Il existe, lors de l'utilisation des structures `while`, un risque que la condition imposée ne soit jamais satisfaite. Dans ce cas, les instructions indentées seront répétées à l'infini. Il convient donc d'être vigilant quant à l'utilisation de ce type de structure ! A titre d'exemple, le code suivant tournera théoriquement pour un nombre d'itération infini :\n",
    "\n",
    "```python\n",
    "a = 0             # Initialisation de la variable a\n",
    "while a != -1:    # Tant que a différent de -1 :\n",
    "    a = a + 1     # Exécute des instructions indentées\n",
    "```\n",
    "\n",
    "><div class=\"alert alert-block alert-info\">Afin de vous entrainer avec ce nouveau type de structure algorithmique, écrivez un petit programme permettant d'afficher une suite de 12 nombres dont chaque terme est le triple du précédent :</div>\n"
   ]
  },
  {
   "cell_type": "code",
   "execution_count": null,
   "metadata": {
    "collapsed": true
   },
   "outputs": [],
   "source": []
  },
  {
   "cell_type": "markdown",
   "metadata": {},
   "source": [
    "Les boucles `while` sont souvent utilisées pour qu'un programme s'exécute tant qu'une condition n'est pas remplie. \n",
    "\n",
    "><div class=\"alert alert-block alert-info\">Écrivez un petit programme qui demande une entrée à l'utilisateur. Votre programme s'exécutera tant que l'utilisateur ne saisi pas le mot \"stop\" :</div>"
   ]
  },
  {
   "cell_type": "code",
   "execution_count": null,
   "metadata": {
    "collapsed": true
   },
   "outputs": [],
   "source": []
  },
  {
   "cell_type": "markdown",
   "metadata": {},
   "source": [
    "Il est également possible de forcer la sortie d'une boucle `while` en utilisant l'instruction `break`. Par exemple :\n",
    "\n",
    "```python\n",
    "while True:            # La boucle tourne pour toujours !\n",
    "    do something       # On y fait quelque chose\n",
    "    if condition:      # Si condition est vraie\n",
    "        break          # On arrête la boucle\n",
    "```\n",
    "\n",
    "><div class=\"alert alert-block alert-info\">Utilisez une condition `if` et l'instruction `break` pour parvenir au même résultat que l'exercice précédent</div>"
   ]
  },
  {
   "cell_type": "code",
   "execution_count": null,
   "metadata": {
    "collapsed": true
   },
   "outputs": [],
   "source": []
  },
  {
   "cell_type": "markdown",
   "metadata": {},
   "source": [
    "---\n",
    "\n",
    "## Note sur l'imbrication de structures algorithmiques\n",
    "\n",
    "Les différentes structures algorithmiques sous Python peuvent être imbriquées. Pour ce faire il suffit d'indenter de la même manière les instructions relevant du même bloc. Par exemple, pour l'imbrication de deux structures conditionnelles et d'une structure répétitive, il suffit d'écrire quelque chose de la forme : \n",
    "\n",
    "```python\n",
    "if condition1:         # Bloc 1\n",
    "    if condition2:         # Bloc 2\n",
    "        instructions           # Bloc 3\n",
    "        (...)                  # Bloc 3\n",
    "    elif condition3:       # Bloc 2\n",
    "        instructions           # Bloc 4\n",
    "        (...)                  # Bloc 4\n",
    "    else:                  # Bloc 2\n",
    "        instructions           # Bloc 5\n",
    "        (...)                  # Bloc 5\n",
    "elif condition4:       # Bloc 1\n",
    "    while condition5:      # Bloc 6\n",
    "        instructions           # Bloc 7\n",
    "        (...)                  # Bloc 7\n",
    "    (...)                  # Bloc 6\n",
    "    (...)                  # Bloc 6\n",
    "else:                  # Bloc 1\n",
    "    instructions           # Bloc 8\n",
    "    (...)                  # Bloc 8\n",
    "    \n",
    "```"
   ]
  },
  {
   "cell_type": "markdown",
   "metadata": {},
   "source": [
    "---\n",
    "\n",
    "## Les boucles *for*\n",
    "\n",
    "\n",
    "En algorithmique, ce qu'on appelle une boucle est simplement la répétition d'une suite d'instructions pour un ensemble donné de valeurs. On peut réaliser une boucle sur tout objet itérable. Les objets itérables classiquement utilisés sous Python sont :  \n",
    "\n",
    "* Les objets de type `chaines de caractères`\n",
    "* Les objets de type `list̀`\n",
    "* Les objets de type `ndarray`\n",
    "* Les objets de type `range` (que nous verrons dans quelques instants)\n",
    "\n",
    "\n",
    "La syntaxe classique d'une boucle `for` est la suivante : \n",
    "\n",
    "```python\n",
    "for item in object:\n",
    "    instruction1\n",
    "    instruction2\n",
    "    ...\n",
    "```\n",
    "\n",
    "On utilisera systématiquement le mot clé `in` lors de la définition d'une boucle. Le caractère \"deux points\" (\":\") terminera toujours la ligne de définition de la boucle. Prenons l'exemple plus concret suivant : \n",
    "\n",
    "```python\n",
    "lst = [2, 4, 6]\n",
    "for i in lst:                  # Textuellement : Pour i dans lst\n",
    "    print('i=', i)\n",
    "    print('2i=', 2*i)\n",
    "    print(5*'-')\n",
    "```\n",
    "\n",
    "Dans cet exemple, une liste d'entiers est tout d'abord définie. La boucle `for` permet ensuite d'assigner successivement à la variable `i` les différentes valeurs contenues dans l'objet `lst`. Ainsi, au premier passage de boucle, `i` vaut 2, et l'ensemble des instructions indentées est exécuté. Au deuxième passage, `i` vaut 4, et l'ensemble des instructions indentées est à nouveau exécuté, et ainsi de suite jusqu'à ce que toutes les valeurs contenues dans l'objet `lst` aient été lues.\n",
    "\n",
    "\n",
    "><div class=\"alert alert-block alert-info\">Testez cet exemple ci-dessous :</div>"
   ]
  },
  {
   "cell_type": "code",
   "execution_count": null,
   "metadata": {},
   "outputs": [],
   "source": []
  },
  {
   "cell_type": "markdown",
   "metadata": {},
   "source": [
    "><div class=\"alert alert-block alert-info\">Inspirez vous du code précédent afin d'afficher successivement tous les élément de la chaîne de caractères \"Python\" :</div>"
   ]
  },
  {
   "cell_type": "code",
   "execution_count": null,
   "metadata": {},
   "outputs": [],
   "source": []
  },
  {
   "cell_type": "markdown",
   "metadata": {},
   "source": [
    "><div class=\"alert alert-block alert-info\">Faîtes de même avec l'objet `ndarray' np.array([2, 4, 6]) :</div>"
   ]
  },
  {
   "cell_type": "code",
   "execution_count": null,
   "metadata": {},
   "outputs": [],
   "source": []
  },
  {
   "cell_type": "markdown",
   "metadata": {},
   "source": [
    "Nous parlions précédemment des objets itérables. L'un des objets les plus utilisés lors de la définition de boucle est l'objet de type `range`. Cet objet est généré à l'aide de la fonction éponyme `range`. \n",
    "\n",
    "Tout comme la fonction `arange()` fournie par le module `numpy`, la fonction `range` accepte 3 arguments: \n",
    "\n",
    "```python\n",
    "range(start, stop, step)     # start=début, stop=fin, step=pas\n",
    "```\n",
    "\n",
    "Les arguments `start` et `step` sont optionnels (tout comme pour la fonction `arange`), ainsi la commande `range(2)` définit un objet de type `range` permettant de générer des entiers allant de 0 à 2 (non inclu) par pas de 1 !\n",
    "\n",
    "><div class=\"alert alert-block alert-info\">Attribuez à l'objet `a` le résultat de la fonction `range(10)`, et regardez le type de `a`</div>\n"
   ]
  },
  {
   "cell_type": "code",
   "execution_count": null,
   "metadata": {},
   "outputs": [],
   "source": []
  },
  {
   "cell_type": "markdown",
   "metadata": {},
   "source": [
    "><div class=\"alert alert-block alert-info\">Faîtes maintenant une boucle sur l'objet `range(5)`, puis sur l'objet `range(0, 5, 2)`. Vous afficherez à l'écran chaque valeur de ces deux objets</div>"
   ]
  },
  {
   "cell_type": "code",
   "execution_count": null,
   "metadata": {},
   "outputs": [],
   "source": []
  },
  {
   "cell_type": "code",
   "execution_count": null,
   "metadata": {},
   "outputs": [],
   "source": []
  },
  {
   "cell_type": "markdown",
   "metadata": {},
   "source": [
    ">**Note :** *Vous noterez que si vous essayez d'afficher (avec par exemple la fonction `print`) un objet de type `range`, ce ne sont pas les valeurs attendues qui sont affichées, mais l'objet `range` lui même et ses arguments. En fait, lorsqu'on déclare un objet de type `range`, les valeurs attendues ne sont pas générées tout de suite. Elles le sont uniquement lorsque cela est nécessaire, lors de l'exécution d'une boucle par exemple.*"
   ]
  },
  {
   "cell_type": "markdown",
   "metadata": {},
   "source": [
    "---\n",
    "\n",
    "## La compréhension de liste\n",
    "\n",
    "Python propose une syntaxe moderne afin de créer facilement des objets de type `list`. Il s'agit de la compréhension de liste. Le plus simple est de considérer l'exemple suivant :\n",
    "\n",
    "```python\n",
    "g = [i**2 for i in range(10)]      # Textuellement : calcule i**2 pour i dans [0, 9]\n",
    "```\n",
    "\n",
    "Les crochets `[` et `]` indiquent bien la création d'un objet de type `list`. On retrouve entre les crochets la formulation classique d'une boucle for (sans le caractère deux points `:`).\n",
    "\n",
    "><div class=\"alert alert-block alert-info\">Testez cet exemple et affichez le contenu de l'objet `g` :</div>\n"
   ]
  },
  {
   "cell_type": "code",
   "execution_count": null,
   "metadata": {
    "collapsed": true
   },
   "outputs": [],
   "source": []
  },
  {
   "cell_type": "markdown",
   "metadata": {},
   "source": [
    "><div class=\"alert alert-block alert-info\">Utilisez une compréhension de liste pour générer une liste contenant les valeurs de $a^a$ avec $a$ prenant toutes les valeurs paires entre 0 et 10 inclus :</div>"
   ]
  },
  {
   "cell_type": "code",
   "execution_count": null,
   "metadata": {
    "collapsed": true
   },
   "outputs": [],
   "source": []
  },
  {
   "cell_type": "markdown",
   "metadata": {},
   "source": [
    "Il est également possible d'intégrer une condition à une liste de compréhension. Par exemple : \n",
    "\n",
    "```python\n",
    "k = [i**2 for i in range(10) if i % 3 == 0]  # Textuellement : calcule i**2 pour i dans [0, 9] si i multiple de 3\n",
    "```\n",
    "\n",
    "><div class=\"alert alert-block alert-info\">Testez cet exemple et affichez le contenu de l'objet `k` :</div>"
   ]
  },
  {
   "cell_type": "code",
   "execution_count": null,
   "metadata": {
    "collapsed": true
   },
   "outputs": [],
   "source": []
  },
  {
   "cell_type": "markdown",
   "metadata": {},
   "source": [
    "><div class=\"alert alert-block alert-info\">Utilisez une compréhension de liste avec condition pour générer une liste contenant tous les carrés entiers compris entre 5 et 500 :</div>"
   ]
  },
  {
   "cell_type": "code",
   "execution_count": null,
   "metadata": {
    "collapsed": true
   },
   "outputs": [],
   "source": []
  },
  {
   "cell_type": "markdown",
   "metadata": {},
   "source": [
    "---\n",
    "\n",
    "## Les fonctions sous Python\n",
    "\n",
    "Afin d'éviter des répétitions lourdes de certaines parties de code, on utilise généralement des fonctions. La syntaxe permettant de définir une fonction est la suivante :\n",
    "\n",
    "```python\n",
    "def ma_fct(MaVar):\n",
    "    return MaVar**2\n",
    "```\n",
    "\n",
    "Le mot clé `def` (pour définition) permet de définir une fonction, qui, dans le cas de l'exemple précédent s'appelle `ma_fct()` qui prend comme argument d'entrée `MaVar` et retourne grâce au mot clé `return` le carré de `MaVar`.\n",
    "\n",
    "L'ensemble des instructions qui doivent être exécutées par la fonction sont indentées. Le caractère \"deux points\" (\":\") termine la ligne de définition de la fonction. Une fonction peut regrouper tout un tas d'instructions, y compris les éléments classiques d'algorithmique vus précédemment sous réserve de bien respecter l'indentation. Par exemple, \n",
    "\n",
    "```python\n",
    "def multiply(start):\n",
    "    for i in range(10):\n",
    "        b = b*i\n",
    "    return b\n",
    "```\n",
    "\n",
    "Pour appeler (exécuter) une fonction, il suffit d'écrire : \n",
    "\n",
    "```python\n",
    "resultat = multiply(10)\n",
    "```\n",
    "\n",
    "On assigne ici à l'objet `resultat` la sortie de la fonction `multiply()` avec l'argument 10 ! Notez que l'instruction `return` est optionnelle. Rien n'oblige vos fonctions à retourner quelque chose de particulier !\n",
    "\n",
    "><div class=\"alert alert-block alert-info\">Écrivez une fonction qui affiche la table de multiplication d'un chiffre donné sous la forme suivante (exemple avec 7) :</div>\n",
    "\n",
    "```python\n",
    "7 x  0 =  0\n",
    "7 x  1 =  7\n",
    "7 x  2 = 14\n",
    "7 x  3 = 21\n",
    "7 x  4 = 28\n",
    "7 x  5 = 35\n",
    "7 x  6 = 42\n",
    "7 x  7 = 49\n",
    "7 x  8 = 56\n",
    "7 x  9 = 63\n",
    "7 x 10 = 70\n",
    "```\n",
    "\n",
    ">**Note :** *Vous pourrez utilisez la méthode format() hérité par les objets de type `str` pour mettre en forme votre table de multiplication !*"
   ]
  },
  {
   "cell_type": "code",
   "execution_count": null,
   "metadata": {},
   "outputs": [],
   "source": []
  },
  {
   "cell_type": "code",
   "execution_count": null,
   "metadata": {},
   "outputs": [],
   "source": []
  },
  {
   "cell_type": "markdown",
   "metadata": {},
   "source": [
    "## Arguments\n",
    "\n",
    "Les fonctions peuvent prendre plusieurs arguments d'entrée qui sont alors séparés (pour la définition comme pour l'appel) par des virgules :\n",
    "\n",
    "```python\n",
    "def pow(a, exponent):\n",
    "    return a**exponent\n",
    "```\n",
    "\n",
    "Vous pouvez également donner une valeur par défaut pour certains ou tous les arguments en leur assignant une valeur dans la déclaration:\n",
    "\n",
    "```python\n",
    "def repeat(c, num=3):\n",
    "    return c*num\n",
    "    \n",
    "repeat(\"hey\") # retourne \"heyheyhey\"\n",
    "repeat(\"hey\", 2) # retourne \"heyhey\"\n",
    "```\n",
    "\n",
    "> **Note :** *Python vous **interdit** de spécifier des arguments sans valeur par défaut après un argument en ayant une.*"
   ]
  },
  {
   "cell_type": "markdown",
   "metadata": {},
   "source": [
    "\n",
    "---\n",
    "\n",
    "# Quelques éléments pour l'ajustement de courbes"
   ]
  },
  {
   "cell_type": "markdown",
   "metadata": {},
   "source": [
    "Avant de passer à la suite, nous allons tout d'abord revenir à un environnement de travail vierge. Pour ce faire, utilisez la commande Jupyter `reset`. \n",
    "\n",
    "><div class=\"alert alert-block alert-info\">\n",
    "Tapez puis exécutez `reset -f` dans la cellule suivante :</div>"
   ]
  },
  {
   "cell_type": "code",
   "execution_count": null,
   "metadata": {
    "collapsed": true
   },
   "outputs": [],
   "source": []
  },
  {
   "cell_type": "markdown",
   "metadata": {
    "collapsed": true
   },
   "source": [
    "\n",
    "---\n",
    "\n",
    "## Les méthodes polyfit et poly1d\n",
    "\n",
    "Dans le domaine scientifique, l'analyse des données expérimentales est d'une importance capitale. \n",
    "Les techniques d'ajustement de courbes (approximations) sont souvent utilisées lorsqu'il s'agit d'analyser ce type de données.\n",
    "\n",
    "Le module `numpy` propose des outils d'ajustement de courbes. Citons en particulier la méthode `polyfit()` qui permet de calculer les coefficients d'un polynôme d'ordre $n$ qui minimisent l'erreur entre ce polynôme et les données fournies par l'utilisateur. La méthode `polyfit()` prend 3 arguments d'entrée :\n",
    "\n",
    "```python\n",
    "p = np.polyfit(x, y, n)   # n est l'ordre du polynôme, et (x, y) les données à \"fitter\"\n",
    "```\n",
    "\n",
    "L'objet `p` ainsi crée n'est autre qu'une liste contenant la valeurs des coefficients du polynôme.\n",
    "La méthode `polyfit` est souvent utilisée conjointement à la méthode `poly1d()` qui permet, à partir des coefficients du polynôme, de créer une \"fonction polynômiale\" qui peut être facilement utilisée par la suite pour calculer la valeur de ce polynôme en un point $x$ quelconque comme suit : \n",
    "\n",
    "```python\n",
    "f = np.poly1d(p)\n",
    "f(x)\n",
    "```\n",
    "\n",
    "Prenons l'exemple des données expérimentales fournies dans les fichiers binaires **S05_lin_distance.npy**  et **S05_lin_temps.npy** qui regroupent respectivement la position (en mètres) d'un balle de tennis frappée par un tennisman professionnel et le temps correspondant (en secondes). La vitesse de la balle est ici considérée constante. La position de la balle pourra donc être approximée par un polynôme d'ordre 1.\n",
    "\n",
    "><div class=\"alert alert-block alert-info\">\n",
    "Créez un programme qui : </div>\n",
    "\n",
    "* Charge les fichiers **S05_lin_distance.npy** et **S05_lin_temps.npy**\n",
    "* Détermine les coefficients du polynôme d'ordre 1 approximant les données expérimentales à l'aide de la fonction `polyfit()` \n",
    "* Crée une fonction polynomiale à partir de ces coefficients à l'aide de la fonction `poly1d()`</div>\n",
    "* Trace sur une figure correctement légendée et labellée :\n",
    "    * Les résultats expérimentaux en marqueurs rouges\n",
    "    * Les résultats de l'ajustement en traits pointillés noirs\n",
    "* Affiche à l'aide de la fonction `print()` :\n",
    "    * L'équation du polynôme\n",
    "    * La vitesse de la balle de tennis en **km/h**"
   ]
  },
  {
   "cell_type": "code",
   "execution_count": null,
   "metadata": {},
   "outputs": [],
   "source": []
  },
  {
   "cell_type": "markdown",
   "metadata": {},
   "source": [
    "La vitesse théorique calculée grâce aux équations de la mécanique est de 177.5 km/h. Que pensez vous de l'approximation que vous venez de faire à partir des résultats expérimentaux ?"
   ]
  },
  {
   "cell_type": "markdown",
   "metadata": {},
   "source": [
    "---\n",
    "\n",
    "## Approximation polynômiale aux ordres supérieurs\n",
    "\n",
    "En physique, les phénomènes ne sont pas systématiquement linéaires !\n",
    "\n",
    "><div class=\"alert alert-block alert-info\">\n",
    "Créez un programme qui : </div>\n",
    "\n",
    "* Charge les fichiers **S05_nl_distance.npy** et **S05_nl_temps.npy** fournis\n",
    "* Détermine les coefficients des polynômes d'ordre 2, 3, 5 et 17 approximant les données expérimentales à l'aide de la fonction `polyfit()` \n",
    "* Crée les fonctions polynomiales d'ordre 1, 2, 3 et 5 à partir de ces coefficients à l'aide de la fonction `poly1d()`</div>\n",
    "* Trace sur une figure correctement légendée et labellée :\n",
    "    * Les résultats expérimentaux en marqueurs rouges\n",
    "    * Les résultats des approximations aux différents ordres en traits pointillés de différentes couleurs\n",
    "\n",
    "**Note 1:** *Il est souvent nécessaire de calculer les valeurs de vos polynômes sur plus de points que les données d'origine. Pour cela il vous suffit de créer un nouveau vecteur temps `t_new` avec les mêmes valeurs de début et de fin que le vecteur original, mais contenant plus de points grâce à la fonction `linspace`. Calculer les valeurs de votre polynôme `p` sur ces nouvelles valeurs revient alors simplement à exécuter `p(t_new)`*\n",
    "\n",
    "**Note 2:** *Les méthodes `max()` et `min()` dont héritent chaque objet `ndarray` vous permettent de déterminer les valeurs maximales et minimales de l'objet.*"
   ]
  },
  {
   "cell_type": "code",
   "execution_count": null,
   "metadata": {},
   "outputs": [],
   "source": []
  },
  {
   "cell_type": "markdown",
   "metadata": {},
   "source": [
    "><div class=\"alert alert-block alert-info\">\n",
    "Concluez des résultats que vous avez obtenu. </div>"
   ]
  },
  {
   "cell_type": "markdown",
   "metadata": {},
   "source": [
    "---\n",
    "\n",
    "# La trousse à outil du scientifique : Numpy et Scipy\n"
   ]
  },
  {
   "cell_type": "markdown",
   "metadata": {},
   "source": [
    "\n",
    "Le module Numpy fournit tout un tas d'outils utiles aux scientifiques. La liste des fonctions disponible dans numpy par catégories est disponible dans le lien suivant :\n",
    "\n",
    "https://docs.scipy.org/doc/numpy/reference/routines.html\n",
    "\n",
    ">**Note :** *Pour les utilisateurs de Matlab, un article intéressant sur les différences entre Python et Matlab est disponible ici : https://docs.scipy.org/doc/numpy-dev/user/numpy-for-matlab-users.html*\n",
    "\n",
    "\n",
    "Un autre module est classiquement utilisé par les scientifiques. Il s'agit du module Scipy. Ce module est divisé en plusieurs sous modules, classés par thématique : \n",
    "\n",
    "* Special functions (scipy.special)\n",
    "* Integration (scipy.integrate)\n",
    "* Optimization (scipy.optimize)\n",
    "* Interpolation (scipy.interpolate)\n",
    "* Fourier Transforms (scipy.fftpack)\n",
    "* Signal Processing (scipy.signal)\n",
    "* Linear Algebra (scipy.linalg)\n",
    "* Sparse Eigenvalue Problems with ARPACK\n",
    "* Compressed Sparse Graph Routines (scipy.sparse.csgraph)\n",
    "* Spatial data structures and algorithms (scipy.spatial)\n",
    "* Statistics (scipy.stats)\n",
    "* Multidimensional image processing (scipy.ndimage)\n",
    "* File IO (scipy.io) qui assure notamment la compatibilité avec les fichiers de données .dat de matlab\n",
    "\n",
    "Il existe une subtilité lors de l'utilisation de Scipy. Il n'est pas possible d'importer *directement* une fonction d'un sous module. Il convient généralement de créer un raccourci vers le sous module souhaité, et d'utiliser ce raccourci pour accéder aux fonctions qu'il fournit. Par exemple pour utiliser la fonction `svd` du sous module `scipy.linalg`, il convient d'écrire :\n",
    "\n",
    "```python\n",
    "import scipy.linalg as spl\n",
    "\n",
    "spl.svd(...)\n",
    "```\n",
    "\n",
    "> **Note :** *Vous trouverez à l'adresse suivante des informations intéressantes pour mener à bien vos projets :\n",
    "http://scipy.github.io/devdocs/index.html*\n",
    "\n",
    "\n",
    "L'exemple ci-dessous illustre l'utilisation du sous module `scipy.fftpack` fournit par Scipy pour calculer des FFTs :"
   ]
  },
  {
   "cell_type": "code",
   "execution_count": null,
   "metadata": {
    "collapsed": true
   },
   "outputs": [],
   "source": []
  },
  {
   "cell_type": "code",
   "execution_count": null,
   "metadata": {},
   "outputs": [],
   "source": []
  },
  {
   "cell_type": "markdown",
   "metadata": {},
   "source": [
    "---\n",
    "\n",
    "# Et en dehors de Jupyter ?\n",
    "\n",
    "Jupyter est un outil extrêmement puissant pour créer et tester du code rapidement et simplement, mais cette interface a ses limites. Si vous avez besoin d'écrire de longs scripts, des modules, ou des programmes complexes, il vous faudra développer avec un IDE (Integrated Development Environment) adapté comme par exemple l'IDE Spyder (interface à la Matlab). \n",
    "\n",
    "Il y a quelques notions importantes que nous n'avons pas évoquées dans le cadre de cette initiation qui se révéleront essentielles dans le cadre de développement plus intensif de codes de calcul :\n",
    "\n",
    "* Les commentaires : ils se matérialisent par le caractère `#`. Tout ce qui suit ce caractère ne sera pas interprété par Python\n",
    "* Les docstrings : il est important de documenter vos fonctions, qu'elles puissent resservir facilement, même longtemps après leur développement. Les docstrings s'écrivent grâce au triples guillemets. Par exemple :\n",
    "\n",
    "\n",
    "```python\n",
    "def MaFct(arg1, arg2)\n",
    "    \"\"\" Fonction qui fait ça...\n",
    " \n",
    "    arg1 : int qui symbolise tel truc\n",
    "    arg2 : float qui symbolise tel autre truc\n",
    "    \"\"\"\n",
    "    \n",
    "    instruction1\n",
    "    instruction2\n",
    "    \n",
    "    (...)\n",
    "    \n",
    "    return result\n",
    "     \n",
    " ```\n",
    " \n",
    "* Les modules personnels : vous pouvez tout à fait rassembler plusieurs fonctions que vous avez développées dans un même fichier. Vous pourrez alors définir ce fichier comme un modules que vous pourrez importer dans n'importe quel code que vous développez afin d'utiliser les fonctions qui s'y trouvent. Pour plus de détails vous pouvez consulter les nombreuses documentation disponibles sur internet ainsi que le support de formation suivant (Diapo 25) : http://perso.univ-lemans.fr/~cdesjouy/python/presentation.pdf\n",
    "\n",
    "* Python est un langage extrêmement riche et versatile. Sa communauté ne cesse de grandir et vous trouverez très facilement les informations que vous cherchez sur internet ! Il suffit généralement de taper les bons mots clés sous votre moteur de recherche préféré !"
   ]
  }
 ],
 "metadata": {
  "kernelspec": {
   "display_name": "Python 3",
   "language": "python",
   "name": "python3"
  },
  "language_info": {
   "codemirror_mode": {
    "name": "ipython",
    "version": 3
   },
   "file_extension": ".py",
   "mimetype": "text/x-python",
   "name": "python",
   "nbconvert_exporter": "python",
   "pygments_lexer": "ipython3",
   "version": "3.7.0"
  },
  "name": "_merged"
 },
 "nbformat": 4,
 "nbformat_minor": 1
}
